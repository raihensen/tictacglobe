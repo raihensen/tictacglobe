{
 "cells": [
  {
   "cell_type": "code",
   "execution_count": null,
   "metadata": {},
   "outputs": [],
   "source": []
  },
  {
   "cell_type": "code",
   "execution_count": null,
   "metadata": {},
   "outputs": [],
   "source": [
    "import json\n",
    "import pandas as pd\n",
    "import numpy as np\n",
    "import matplotlib.pyplot as plt"
   ]
  },
  {
   "cell_type": "code",
   "execution_count": null,
   "metadata": {
    "scrolled": true
   },
   "outputs": [],
   "source": [
    "import preprocessing\n",
    "from difficulty import compute_game_difficulties, DifficultyLevel\n",
    "from generator import Constraint, GameGenerator\n",
    "\n",
    "df = preprocessing.df\n",
    "categories = preprocessing.categories"
   ]
  },
  {
   "cell_type": "code",
   "execution_count": null,
   "metadata": {},
   "outputs": [],
   "source": [
    "# from importlib import reload\n",
    "# reload(preprocessing)"
   ]
  },
  {
   "cell_type": "markdown",
   "metadata": {},
   "source": [
    "### Show all alternative values"
   ]
  },
  {
   "cell_type": "code",
   "execution_count": null,
   "metadata": {
    "scrolled": true
   },
   "outputs": [],
   "source": [
    "altcols = [col for col in df.columns if col.endswith(\"_alt\")]\n",
    "print(\"\\nAll countries with alternative values:\")\n",
    "display(df[df[altcols].applymap(len).sum(axis=1) > 0])"
   ]
  },
  {
   "cell_type": "code",
   "execution_count": null,
   "metadata": {},
   "outputs": [],
   "source": [
    "constraints = [\n",
    "    # Some categories are pretty boring to appear multiple times\n",
    "    Constraint.category_at_most(\"capital_ending_letter\", 1),\n",
    "    Constraint.category_at_most(\"capital_starting_letter\", 1),\n",
    "    Constraint.category_at_most(\"ending_letter\", 1),\n",
    "    # Limit the number of cells a country can appear in\n",
    "    *Constraint.solutions_at_most(df.iso.tolist(), 3)\n",
    "]\n",
    "category_probs = {\n",
    "    'continent': 4,\n",
    "    'starting_letter': 3,\n",
    "    'ending_letter': 1.5,\n",
    "    'capital_starting_letter': 2,\n",
    "    'capital_ending_letter': .5,\n",
    "    'flag_colors': 3,\n",
    "    'landlocked': 4,\n",
    "    'island': 4\n",
    "}\n",
    "\n",
    "generator = preprocessing.get_generator(constraints, category_probs,\n",
    "                                        seed=None, selection_mode=\"shuffle_setkeys\", uniform=False, shuffle=True)\n",
    "games = list(generator.sample_games(n=5000, progress_bar=True))\n",
    "game_info = compute_game_difficulties(games)"
   ]
  },
  {
   "cell_type": "code",
   "execution_count": null,
   "metadata": {},
   "outputs": [],
   "source": [
    "preprocessing.save_games(games, \"occurence-limit\")"
   ]
  },
  {
   "cell_type": "code",
   "execution_count": null,
   "metadata": {},
   "outputs": [],
   "source": [
    "plt.hist([game.sample_tries for game in games], bins=50, rwidth=.9)\n",
    "plt.title(\"Number of tries for game generation\")\n",
    "plt.show()"
   ]
  },
  {
   "cell_type": "code",
   "execution_count": null,
   "metadata": {},
   "outputs": [],
   "source": [
    "sample_tries = pd.Series([game.sample_tries for game in games]).value_counts()\n",
    "sample_tries = np.array([sample_tries.get(i, 0) for i in range(100)])\n",
    "p = (1 - sample_tries / np.roll(sample_tries, 1))[1:]\n",
    "plt.scatter(x=p, y=np.zeros_like(p))"
   ]
  },
  {
   "cell_type": "code",
   "execution_count": null,
   "metadata": {},
   "outputs": [],
   "source": [
    "game_info[\"max_occurences\"] = game_info[\"game\"].apply(lambda game: pd.Series(sum(sum(game.solutions, []), [])).value_counts().max())"
   ]
  },
  {
   "cell_type": "code",
   "execution_count": null,
   "metadata": {},
   "outputs": [],
   "source": [
    "game_info[\"max_occurences\"].describe()"
   ]
  },
  {
   "cell_type": "code",
   "execution_count": null,
   "metadata": {},
   "outputs": [],
   "source": [
    "plt.hist(game_info[\"max_occurences\"], bins=range(10), rwidth=.9)\n",
    "plt.show()"
   ]
  },
  {
   "cell_type": "code",
   "execution_count": null,
   "metadata": {},
   "outputs": [],
   "source": [
    "for game in game_info.nlargest(20, \"max_cell_difficulty\")[\"game\"]:\n",
    "    print(game.data)\n",
    "    display(game.to_dataframe(solution=True))"
   ]
  },
  {
   "cell_type": "code",
   "execution_count": null,
   "metadata": {},
   "outputs": [],
   "source": []
  },
  {
   "cell_type": "code",
   "execution_count": null,
   "metadata": {},
   "outputs": [],
   "source": [
    "plt.hist(game_info[\"max_cell_difficulty\"], bins=20, rwidth=.9)\n",
    "plt.title(\"Max cell difficulty\")\n",
    "plt.show()"
   ]
  },
  {
   "cell_type": "code",
   "execution_count": null,
   "metadata": {},
   "outputs": [],
   "source": []
  },
  {
   "cell_type": "code",
   "execution_count": null,
   "metadata": {},
   "outputs": [],
   "source": [
    "scatter = plt.scatter(x=game_info[\"avg_cell_difficulty\"], y=game_info[\"max_cell_difficulty\"], c=game_info[\"level\"])\n",
    "plt.xlabel(\"Average cell difficulty\")\n",
    "plt.ylabel(\"Maximum cell difficulty\")\n",
    "plt.title(\"Distribution of game difficulty\")\n",
    "plt.xlim([0,10])\n",
    "plt.ylim([0,10])\n",
    "ax = plt.gca()\n",
    "legend = ax.legend(scatter.legend_elements()[0], [\"Easy\", \"Medium\", \"Hard\"], loc=\"lower right\", title=\"Difficulty Level\")\n",
    "ax.add_artist(legend)\n",
    "plt.show()"
   ]
  },
  {
   "cell_type": "code",
   "execution_count": null,
   "metadata": {},
   "outputs": [],
   "source": [
    "game_info[\"level\"].value_counts()"
   ]
  },
  {
   "cell_type": "code",
   "execution_count": null,
   "metadata": {},
   "outputs": [],
   "source": [
    "# plt.hist(cell_info[\"content_difficulty\"], bins=20, rwidth=.9)\n",
    "# plt.title(\"Cell content difficulty\")\n",
    "# plt.show()"
   ]
  },
  {
   "cell_type": "code",
   "execution_count": null,
   "metadata": {},
   "outputs": [],
   "source": []
  },
  {
   "cell_type": "code",
   "execution_count": null,
   "metadata": {},
   "outputs": [],
   "source": [
    "# plt.scatter(x=cell_info[\"row_col_difficulty\"], y=cell_info[\"content_difficulty\"])\n",
    "plt.scatter(x=cell_info[\"row_difficulty\"], y=cell_info[\"col_difficulty\"], c=cell_info[\"content_difficulty\"])\n",
    "# plt.scatter(x=cell_info[\"row_col_difficulty\"], y=cell_info[\"row_col_difficulty_harmonic\"])\n",
    "plt.show()"
   ]
  },
  {
   "cell_type": "code",
   "execution_count": null,
   "metadata": {},
   "outputs": [],
   "source": []
  },
  {
   "cell_type": "code",
   "execution_count": null,
   "metadata": {
    "scrolled": false
   },
   "outputs": [],
   "source": [
    "import matplotlib.pyplot as plt\n",
    "\n",
    "# plt.scatter(x=np.log(df[\"gdp\"]) - np.log(df[\"population\"]), y=df[\"gdp_per_capita\"])\n",
    "# plt.scatter(x=np.log(df[\"population\"]), y=np.log(df[\"gdp\"]), c=df[\"difficulty\"])\n",
    "# plt.scatter(x=np.log(df[\"population\"]), y=np.log(df[\"gdp\"]), c=df[\"difficulty\"])\n",
    "plt.show()"
   ]
  }
 ],
 "metadata": {
  "kernelspec": {
   "display_name": "Python 3",
   "language": "python",
   "name": "python3"
  },
  "language_info": {
   "codemirror_mode": {
    "name": "ipython",
    "version": 3
   },
   "file_extension": ".py",
   "mimetype": "text/x-python",
   "name": "python",
   "nbconvert_exporter": "python",
   "pygments_lexer": "ipython3",
   "version": "3.8.5"
  }
 },
 "nbformat": 4,
 "nbformat_minor": 4
}
