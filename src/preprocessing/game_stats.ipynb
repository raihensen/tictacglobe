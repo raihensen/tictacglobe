{
 "cells": [
  {
   "cell_type": "code",
   "execution_count": null,
   "metadata": {},
   "outputs": [],
   "source": [
    "import json\n",
    "import pandas as pd\n",
    "import numpy as np\n",
    "import matplotlib.pyplot as plt\n",
    "import datetime\n",
    "from enum import Enum, auto"
   ]
  },
  {
   "cell_type": "code",
   "execution_count": null,
   "metadata": {
    "scrolled": true
   },
   "outputs": [],
   "source": [
    "import preprocessing\n",
    "df = preprocessing.df\n",
    "categories = preprocessing.categories"
   ]
  },
  {
   "cell_type": "code",
   "execution_count": null,
   "metadata": {},
   "outputs": [],
   "source": [
    "# from importlib import reload\n",
    "# reload(preprocessing)"
   ]
  },
  {
   "cell_type": "code",
   "execution_count": null,
   "metadata": {},
   "outputs": [],
   "source": [
    "# setkeys = pd.DataFrame(preprocessing.setkeys, columns=[\"key\", \"value\"])\n",
    "# cat_sizes = setkeys[\"key\"].value_counts()\n",
    "# c = cat_sizes.to_numpy()\n",
    "# w = 1 / np.sqrt(c)\n",
    "# dict(zip(cat_sizes.index, w / np.sum(w)))"
   ]
  },
  {
   "cell_type": "markdown",
   "metadata": {},
   "source": [
    "### Show all alternative values"
   ]
  },
  {
   "cell_type": "code",
   "execution_count": null,
   "metadata": {
    "scrolled": true
   },
   "outputs": [],
   "source": [
    "altcols = [col for col in df.columns if col.endswith(\"_alt\")]\n",
    "print(\"\\nAll countries with alternative values:\")\n",
    "display(df[df[altcols].applymap(len).sum(axis=1) > 0])"
   ]
  },
  {
   "cell_type": "code",
   "execution_count": null,
   "metadata": {},
   "outputs": [],
   "source": [
    "class DifficultyLevel(Enum):\n",
    "    EASY = \"easy\"\n",
    "    MEDIUM = \"medium\"\n",
    "    HARD = \"hard\"\n",
    "    \n",
    "    def __str__(self):\n",
    "        return self.value\n",
    "    \n",
    "    def __repr__(self):\n",
    "        return str(self)\n",
    "    \n",
    "    def __float__(self):\n",
    "        return float([\"easy\", \"medium\", \"hard\"].index(self.value))"
   ]
  },
  {
   "cell_type": "code",
   "execution_count": null,
   "metadata": {},
   "outputs": [],
   "source": [
    "def save_games(games, name: str, difficulty_level=None):\n",
    "    games = list(games)\n",
    "    timestamp = datetime.datetime.now().strftime(\"%Y%m%d-%H%M%S\")\n",
    "    info = [timestamp, name, preprocessing.GAME_LANGUAGE.lower()]\n",
    "    if difficulty_level is not None:\n",
    "        info.append(str(difficulty_level).lower())\n",
    "    path = f\"../../data/games-{'-'.join(info)}.json\"\n",
    "    json.dump([game.to_json() for game in games], open(path, mode=\"w\", encoding=\"utf-8\"))\n",
    "    print(f\"{len(games)} games saved to {path}\")"
   ]
  },
  {
   "cell_type": "code",
   "execution_count": null,
   "metadata": {},
   "outputs": [],
   "source": [
    "from generator import Constraint, GameGenerator\n",
    "\n",
    "constraints = [\n",
    "    # Some categories are pretty boring to appear multiple times\n",
    "    Constraint.category_at_most(\"capital_ending_letter\", 1),\n",
    "    Constraint.category_at_most(\"capital_starting_letter\", 1),\n",
    "    Constraint.category_at_most(\"ending_letter\", 1)\n",
    "]\n",
    "category_probs = {\n",
    "    'continent': 4,\n",
    "    'starting_letter': 3,\n",
    "    'ending_letter': 1.5,\n",
    "    'capital_starting_letter': 2,\n",
    "    'capital_ending_letter': .5,\n",
    "    'flag_colors': 3,\n",
    "    'landlocked': 4,\n",
    "    'island': 4\n",
    "}"
   ]
  },
  {
   "cell_type": "code",
   "execution_count": null,
   "metadata": {},
   "outputs": [],
   "source": [
    "generator = preprocessing.get_generator(constraints, category_probs, field_size=3,\n",
    "                                        seed=None, selection_mode=\"shuffle_setkeys\", uniform=False, shuffle=True)\n",
    "games = list(generator.sample_games(n=5000))\n",
    "# save_games(games, \"new-structure-test\")"
   ]
  },
  {
   "cell_type": "markdown",
   "metadata": {},
   "source": [
    "# Compute country difficulties"
   ]
  },
  {
   "cell_type": "code",
   "execution_count": null,
   "metadata": {},
   "outputs": [],
   "source": [
    "COUNTRY_DIFFICULTY_WEIGHTS = {\n",
    "    \"sqrt_name_length\": 0.25,\n",
    "    \"log_population\": -1,\n",
    "    \"log_gdp\": -2,\n",
    "    \"log_gdp_per_capita\": -0.5\n",
    "}\n",
    "SOLUTION_DIFFICULTY_WEIGHTS = {\n",
    "    \"median\": 3,\n",
    "    \"std\": 0.5,\n",
    "    \"size_score\": 2,\n",
    "    \"offset\": 1.5  # here: category difficulty\n",
    "}\n",
    "CELL_DIFFICULTY_WEIGHTS = {\n",
    "    \"row_col_difficulty\": 2,\n",
    "    \"content_difficulty\": 3\n",
    "}\n",
    "GAME_DIFFICULTY_WEIGHTS = {\n",
    "    \"avg_cell_difficulty\": 1,\n",
    "    \"num_unique\": 0.33\n",
    "}"
   ]
  },
  {
   "cell_type": "code",
   "execution_count": null,
   "metadata": {},
   "outputs": [],
   "source": [
    "def normalize_zero_centered(x: pd.Series, scale=1):  # map to interval [-scale, +scale]\n",
    "    return scale * (2 * (x - x.min()) / (x.max() - x.min()) - 1)\n",
    "\n",
    "def normalize(x: pd.Series, scale=1):  # map to interval [0, scale]\n",
    "    return scale * (x - x.min()) / (x.max() - x.min())\n",
    "\n",
    "def linear_combination(df, weights):\n",
    "    return sum(w * df[col] for col, w in weights.items())\n",
    "\n",
    "def normalized_combination(df, weights, scale=1):\n",
    "    return normalize(linear_combination(df, weights), scale=scale)\n",
    "\n",
    "# def normalize_levels(x: pd.Series, scale=10):\n",
    "#     return np.ceil(normalize(x, scale))\n",
    "\n",
    "# def sigmoid(x: pd.Series):\n",
    "#     return 1 / (1 + np.exp(-x))\n",
    "\n",
    "# def normalize_levels_logistic(x: pd.Series, scale=10):\n",
    "#     return normalize_levels(sigmoid(normalize_zero_centered(x)), scale)"
   ]
  },
  {
   "cell_type": "code",
   "execution_count": null,
   "metadata": {},
   "outputs": [],
   "source": [
    "stats = pd.DataFrame({\n",
    "    \"sqrt_name_length\": normalize(np.sqrt(df[\"name\"].apply(len)), scale=10),\n",
    "    \"log_population\": normalize(np.log(df[\"population\"]), scale=10),\n",
    "    \"log_gdp\": normalize(np.log(df[\"gdp\"]), scale=10),\n",
    "    \"log_gdp_per_capita\": normalize(np.log(df[\"gdp_per_capita\"]), scale=10)\n",
    "})\n",
    "\n",
    "df[\"difficulty\"] = normalized_combination(stats, COUNTRY_DIFFICULTY_WEIGHTS, scale=10)\n",
    "\n",
    "# VATICAN is an outlier. As reference, set as difficult as MONACO.\n",
    "df.loc[df[\"name\"] == \"Vatican\", \"difficulty\"] = df.loc[df[\"name\"] == \"Monaco\", \"difficulty\"].iloc[0]\n",
    "\n",
    "# df1 = df.nsmallest(50, \"difficulty\").reset_index()\n",
    "# df1\n",
    "# df1[df1[\"landlocked\"]][[\"iso\", \"difficulty\", \"gdp\", \"population\"]]\n",
    "# df.nlargest(20, \"difficulty\")[[\"name\", \"gdp\", \"population\", \"difficulty\"]]\n",
    "df[[\"name\", \"gdp\", \"gdp_per_capita\", \"population\", \"difficulty\"]].sort_values(\"difficulty\").head(50)"
   ]
  },
  {
   "cell_type": "code",
   "execution_count": null,
   "metadata": {},
   "outputs": [],
   "source": [
    "categories = preprocessing.categories\n",
    "setkeys = preprocessing.setkeys\n",
    "cells = preprocessing.cells"
   ]
  },
  {
   "cell_type": "code",
   "execution_count": null,
   "metadata": {
    "scrolled": false
   },
   "outputs": [],
   "source": [
    "items = df[[\"iso\", \"name\", \"difficulty\"]].copy()\n",
    "for key, value in setkeys:\n",
    "    cat = categories[key]\n",
    "    items[(key, value)] = items.iso.apply(lambda iso: iso in cat.sets.loc[value])\n",
    "\n",
    "\n",
    "def aggregate_difficulty(difficulties: pd.Series, offsets=None):\n",
    "    if offsets is None:\n",
    "        offsets = np.zeros_like(difficulties)\n",
    "    info = difficulties.copy().rename(\"difficulties\").reset_index()\n",
    "    info[\"offset\"] = offsets\n",
    "    info[\"size\"] = info.difficulties.apply(len)\n",
    "    info[\"size_score\"] = normalize(-np.sqrt(info[\"size\"]), scale=10)\n",
    "    info[\"mean\"] = info.difficulties.apply(np.mean)\n",
    "    info[\"min\"] = info.difficulties.apply(min)\n",
    "    info[\"max\"] = info.difficulties.apply(max)\n",
    "    info[\"median\"] = info.difficulties.apply(np.median)\n",
    "    info[\"std\"] = info.difficulties.apply(np.std)\n",
    "    info.drop(columns=[\"difficulties\"], inplace=True)\n",
    "    difficulty = normalized_combination(info, SOLUTION_DIFFICULTY_WEIGHTS, scale=10)\n",
    "    return difficulty.astype(\"float64\")\n",
    "\n",
    "\n",
    "info = pd.Series({(key, value): items[items[(key, value)]].difficulty.agg(list) for key, value in setkeys})\n",
    "info = info.reset_index()\n",
    "info.columns=[\"key\", \"value\", \"difficulties\"]\n",
    "cat_difficulty = normalize(info.key.apply(lambda key: categories[key].difficulty), scale=10)\n",
    "info[\"difficulty\"] = aggregate_difficulty(info[\"difficulties\"], offsets=cat_difficulty)\n",
    "\n",
    "info[\"countries\"] = info.apply(lambda row: categories[row[\"key\"]].sets.loc[row[\"value\"]], axis=1)\n",
    "info.set_index([\"key\", \"value\"], inplace=True)\n",
    "info.nsmallest(20, \"difficulty\").reset_index()"
   ]
  },
  {
   "cell_type": "code",
   "execution_count": null,
   "metadata": {
    "scrolled": false
   },
   "outputs": [],
   "source": [
    "cell_info = preprocessing.cell_info.copy().reset_index(drop=True)\n",
    "cell_info = cell_info.join(info[\"difficulty\"].rename(\"row_difficulty\"), on=[\"row_cat\", \"row_val\"])\n",
    "cell_info = cell_info.join(info[\"difficulty\"].rename(\"col_difficulty\"), on=[\"col_cat\", \"col_val\"])\n",
    "cell_info[\"row_col_difficulty\"] = normalize(cell_info[\"row_difficulty\"] + cell_info[\"col_difficulty\"], scale=10)\n",
    "cell_info[\"row_col_difficulty_harmonic\"] = normalize((cell_info[\"row_difficulty\"] + 1) * (cell_info[\"col_difficulty\"] + 1), scale=10)\n",
    "cell_info.nsmallest(20, \"row_col_difficulty\")\n",
    "\n",
    "content_difficulties = cell_info[\"contents\"].apply(lambda cc: items[items.iso.isin(cc)].difficulty.agg(list))\n",
    "cell_info[\"content_difficulty\"] = aggregate_difficulty(content_difficulties)\n",
    "cell_info[\"difficulty\"] = normalized_combination(cell_info, CELL_DIFFICULTY_WEIGHTS, scale=10)\n",
    "# cell_info.nsmallest(20, \"content_difficulty\")\n",
    "\n",
    "# info = aggregate_difficulty(cell_info[\"content_difficulties\"])\n",
    "# info.nsmallest(20, \"difficulty\").reset_index()\n",
    "\n",
    "# cell_info = cell_info.join(info[\"difficulty\"], on=[\"row_cat\", \"row_val\"])"
   ]
  },
  {
   "cell_type": "code",
   "execution_count": null,
   "metadata": {},
   "outputs": [],
   "source": [
    "cell_info.nlargest(20, \"content_difficulty\")"
   ]
  },
  {
   "cell_type": "code",
   "execution_count": null,
   "metadata": {},
   "outputs": [],
   "source": [
    "import itertools\n",
    "\n",
    "game_info = pd.DataFrame([{\"game\": game,\n",
    "                           \"rows\": [(cat.key, value) for cat, value in game.rows],\n",
    "                           \"cols\": [(cat.key, value) for cat, value in game.cols]} for game in games])\n",
    "\n",
    "def get_cell_indices(cell_data):\n",
    "    for (cat1, val1), (cat2, val2) in itertools.product(cell_data[\"rows\"], cell_data[\"cols\"]):\n",
    "        (row_cat, row_val), (col_cat, col_val) = max((cat1, val1), (cat2, val2)), min((cat1, val1), (cat2, val2))\n",
    "        yield cell_info.index[(cell_info[\"row_cat\"] == row_cat) & (cell_info[\"row_val\"] == row_val) & (cell_info[\"col_cat\"] == col_cat) & (cell_info[\"col_val\"] == col_val)].tolist()[0]\n",
    "\n",
    "game_info[\"cell_indices\"] = game_info.apply(lambda cell_data: list(get_cell_indices(cell_data)), axis=1)\n",
    "game_info[\"cell_difficulties\"] = game_info[\"cell_indices\"].apply(lambda ix: cell_info.loc[ix, \"difficulty\"].tolist())\n",
    "game_info[\"max_cell_difficulty\"] = game_info[\"cell_difficulties\"].apply(max)\n",
    "game_info[\"avg_cell_difficulty\"] = game_info[\"cell_difficulties\"].apply(np.mean)\n",
    "game_info[\"num_unique\"] = game_info[\"game\"].apply(lambda game: len([1 for solutions in sum(game.solutions, []) if len(solutions) == 1]))\n",
    "\n",
    "game_info.nsmallest(20, \"max_cell_difficulty\")"
   ]
  },
  {
   "cell_type": "code",
   "execution_count": null,
   "metadata": {},
   "outputs": [],
   "source": [
    "for game in game_info.nlargest(20, \"max_cell_difficulty\")[\"game\"]:\n",
    "    print(game.data)\n",
    "    display(game.to_dataframe(solution=True))"
   ]
  },
  {
   "cell_type": "code",
   "execution_count": null,
   "metadata": {},
   "outputs": [],
   "source": []
  },
  {
   "cell_type": "code",
   "execution_count": null,
   "metadata": {},
   "outputs": [],
   "source": [
    "plt.hist(game_info[\"max_cell_difficulty\"], bins=20, rwidth=.9)\n",
    "plt.title(\"Max cell difficulty\")\n",
    "plt.show()"
   ]
  },
  {
   "cell_type": "code",
   "execution_count": null,
   "metadata": {
    "scrolled": true
   },
   "outputs": [],
   "source": [
    "game_info[\"difficulty\"] = normalized_combination(game_info, GAME_DIFFICULTY_WEIGHTS, scale=10)\n",
    "# difficulty_order: \"This game is harder than x% of all games.\"\n",
    "game_info[\"difficulty_order\"] = pd.qcut(game_info[\"avg_cell_difficulty\"], q=100, labels=False)\n",
    "ix_easy = (game_info[\"max_cell_difficulty\"] < 6) & (game_info[\"num_unique\"] <= 2) & (game_info[\"difficulty_order\"] <= 40)\n",
    "hard_bound = game_info[~ix_easy][\"difficulty_order\"].median()\n",
    "ix_medium =  ~ix_easy & (game_info[\"difficulty_order\"] <= hard_bound)\n",
    "ix_hard = ~ix_easy & ~ix_medium\n",
    "\n",
    "# game_info[\"class\"] = pd.qcut(game_info[\"difficulty\"], q=3, labels=False)\n",
    "game_info[\"level\"] = 0\n",
    "game_info.loc[ix_easy, \"level\"] = DifficultyLevel.EASY\n",
    "game_info.loc[ix_medium, \"level\"] = DifficultyLevel.MEDIUM\n",
    "game_info.loc[ix_hard, \"level\"] = DifficultyLevel.HARD\n",
    "\n",
    "for i, game in enumerate(games):\n",
    "    game.data[\"max_cell_difficulty\"] = game_info.loc[i, \"max_cell_difficulty\"]\n",
    "    game.data[\"avg_cell_difficulty\"] = game_info.loc[i, \"avg_cell_difficulty\"]\n",
    "    game.data[\"difficulty_level\"] = str(game_info.loc[i, \"level\"])"
   ]
  },
  {
   "cell_type": "code",
   "execution_count": null,
   "metadata": {},
   "outputs": [],
   "source": []
  },
  {
   "cell_type": "code",
   "execution_count": null,
   "metadata": {},
   "outputs": [],
   "source": [
    "scatter = plt.scatter(x=game_info[\"avg_cell_difficulty\"], y=game_info[\"max_cell_difficulty\"], c=game_info[\"level\"])\n",
    "plt.xlabel(\"Average cell difficulty\")\n",
    "plt.ylabel(\"Maximum cell difficulty\")\n",
    "plt.title(\"Distribution of game difficulty\")\n",
    "plt.xlim([0,10])\n",
    "plt.ylim([0,10])\n",
    "ax = plt.gca()\n",
    "legend = ax.legend(scatter.legend_elements()[0], [\"Easy\", \"Medium\", \"Hard\"], loc=\"lower right\", title=\"Difficulty Level\")\n",
    "ax.add_artist(legend)\n",
    "plt.show()"
   ]
  },
  {
   "cell_type": "code",
   "execution_count": null,
   "metadata": {},
   "outputs": [],
   "source": [
    "game_info[\"level\"].value_counts()"
   ]
  },
  {
   "cell_type": "code",
   "execution_count": null,
   "metadata": {},
   "outputs": [],
   "source": [
    "plt.hist(cell_info[\"content_difficulty\"], bins=20, rwidth=.9)\n",
    "plt.title(\"Cell content difficulty\")\n",
    "plt.show()"
   ]
  },
  {
   "cell_type": "code",
   "execution_count": null,
   "metadata": {},
   "outputs": [],
   "source": [
    "save_games(games, \"with-difficulty\")"
   ]
  },
  {
   "cell_type": "code",
   "execution_count": null,
   "metadata": {},
   "outputs": [],
   "source": []
  },
  {
   "cell_type": "code",
   "execution_count": null,
   "metadata": {},
   "outputs": [],
   "source": [
    "# plt.scatter(x=cell_info[\"row_col_difficulty\"], y=cell_info[\"content_difficulty\"])\n",
    "plt.scatter(x=cell_info[\"row_difficulty\"], y=cell_info[\"col_difficulty\"], c=cell_info[\"content_difficulty\"])\n",
    "# plt.scatter(x=cell_info[\"row_col_difficulty\"], y=cell_info[\"row_col_difficulty_harmonic\"])\n",
    "plt.show()"
   ]
  },
  {
   "cell_type": "code",
   "execution_count": null,
   "metadata": {},
   "outputs": [],
   "source": [
    "cell_info = preprocessing.cell_info.copy()\n",
    "\n",
    "# pd.merge(cell_info, info[[\"key\", \"value\", \"difficulty\"]].add_prefix(\"row_\"), left_on=[\"row_cat\", \"row_val\"], right_on=[\"row_key\", \"row_value\"])\n",
    "cell_info[\"row_difficulty\"] = cell_info.join(info[\"difficulty\"], on=[\"row_cat\", \"row_val\"])\n",
    "cell_info\n",
    "# for orient in [\"row\", \"col\"]:\n",
    "#     cell_info[f\"{orient}_difficulty\"] = "
   ]
  },
  {
   "cell_type": "code",
   "execution_count": null,
   "metadata": {},
   "outputs": [],
   "source": []
  },
  {
   "cell_type": "code",
   "execution_count": null,
   "metadata": {},
   "outputs": [],
   "source": [
    "# Calculate difficulty of continents\n",
    "\n",
    "data = df[[\"iso\", \"name\", \"continent\", \"difficulty\"]].copy()\n",
    "data.rename(columns={\"continent\": \"category\"}, inplace=True)\n",
    "\n",
    "# Step 1: Calculate average difficulty per category\n",
    "# Step 2: Calculate standard deviation per category\n",
    "# Step 3: Adjust for category size (you can adjust the value to your liking)\n",
    "categories = pd.DataFrame({\"avg\": data.groupby('category')['difficulty'].mean(),\n",
    "                           \"median\": data.groupby('category')['difficulty'].median(),\n",
    "                           \"std\": data.groupby('category')['difficulty'].std(),\n",
    "                           \"size\": data['category'].value_counts()})\n",
    "\n",
    "# Idea: entropy (europe is easy because oceania is hard)\n",
    "\n",
    "# Step 4: Combine\n",
    "# Step 5: Normalize\n",
    "categories[\"difficulty\"] = normalize(2 * categories[\"avg\"] + categories[\"std\"] + np.sqrt(categories[\"size\"]), scale=10)\n",
    "\n",
    "categories.sort_values(\"difficulty\")"
   ]
  },
  {
   "cell_type": "code",
   "execution_count": null,
   "metadata": {},
   "outputs": [],
   "source": []
  },
  {
   "cell_type": "code",
   "execution_count": null,
   "metadata": {},
   "outputs": [],
   "source": [
    "def entropy(x: pd.Series) -> float:\n",
    "    p = x.value_counts() / len(x)\n",
    "    return np.sum(-p * np.log2(p))\n",
    "\n",
    "def entropies(x: pd.Series, y: pd.Series):\n",
    "    pass\n",
    "#     return pd.concat([x, y], axis=1).groupby(x.name)[y.name].agg(entropy)\n",
    "\n",
    "\n",
    "# entropy(pd.Series(np.array([1,2,3,4])))\n",
    "# entropy(pd.Series(np.array([1,1,1,1])))\n",
    "# entropies(df[\"continent\"], df[\"difficulty\"])"
   ]
  },
  {
   "cell_type": "code",
   "execution_count": null,
   "metadata": {
    "scrolled": false
   },
   "outputs": [],
   "source": [
    "import matplotlib.pyplot as plt\n",
    "\n",
    "# plt.scatter(x=np.log(df[\"gdp\"]) - np.log(df[\"population\"]), y=df[\"gdp_per_capita\"])\n",
    "# plt.scatter(x=np.log(df[\"population\"]), y=np.log(df[\"gdp\"]), c=df[\"difficulty\"])\n",
    "# plt.scatter(x=np.log(df[\"population\"]), y=np.log(df[\"gdp\"]), c=df[\"difficulty\"])\n",
    "plt.show()"
   ]
  },
  {
   "cell_type": "code",
   "execution_count": null,
   "metadata": {},
   "outputs": [],
   "source": []
  },
  {
   "cell_type": "code",
   "execution_count": null,
   "metadata": {
    "scrolled": false
   },
   "outputs": [],
   "source": [
    "def get_difficulty(game):\n",
    "    game_cats = [cat for cat, val in game.rows + game.cols]\n",
    "    cat_sizes = [len(cat.sets) for cat in game_cats]\n",
    "    \n",
    "    solutions = sum([[cell for cell in row] for row in game.solutions], [])\n",
    "    alt_solutions = sum([[cell for cell in row] for row in game.alt_solutions], [])\n",
    "    all_solutions = list(sorted(set(sum(solutions + alt_solutions, []))))\n",
    "    cell_sizes = list(map(len, solutions))\n",
    "    num_unique = len([i for i, size in enumerate(cell_sizes) if size == 1])\n",
    "    cat_difficulty = sum(cat.difficulty for cat in game_cats)\n",
    "    \n",
    "    return {\n",
    "        \"cell_sizes\": cell_sizes,\n",
    "        \"cell_sizes_median\": pd.Series(cell_sizes).median(),\n",
    "        \"cell_min_difficulties\": [df[df[\"iso\"].isin(cell)][\"difficulty\"].min() for cell in solutions],\n",
    "        \"cell_median_difficulties\": [df[df[\"iso\"].isin(cell)][\"difficulty\"].median() for cell in solutions],\n",
    "        \"num_unique\": num_unique,\n",
    "        \"max_num_cells\": max(len([cell for cell in solutions if c in cell]) for c in all_solutions),\n",
    "        \"max_num_cells_unique_solution\": max(len([cell for cell in solutions if len(cell) == 1 and c in cell]) for c in all_solutions),\n",
    "        \"cat_sizes\": cat_sizes,\n",
    "        \"all_solutions\": len(all_solutions),\n",
    "        \"cat_sizes_median\": pd.Series(cell_sizes).median(),\n",
    "        \"cat_difficulty\": cat_difficulty / len(game_cats)\n",
    "    }\n",
    "\n",
    "# info = pd.DataFrame([{\"game\": game, **get_difficulty(game)} for game in games])\n",
    "# info[\"score\"] = -info[\"num_unique\"] + info[\"cat_difficulty\"] + info[\"cell_sizes_median\"] + info[\"cat_sizes_median\"]\n",
    "\n",
    "info[\"cell_max_min_difficulties\"] = info[\"cell_min_difficulties\"].apply(max)\n",
    "\n",
    "\n",
    "# info.head(30)\n",
    "\n",
    "# idea: countries with small population / size are harder to guess\n",
    "# log(sum(populations of all solution)) median of all cells"
   ]
  },
  {
   "cell_type": "code",
   "execution_count": null,
   "metadata": {},
   "outputs": [],
   "source": [
    "info"
   ]
  },
  {
   "cell_type": "code",
   "execution_count": null,
   "metadata": {},
   "outputs": [],
   "source": [
    "plt.hist(df[\"difficulty\"], bins=20, rwidth=.9)\n",
    "plt.title(\"Country difficulties\")\n",
    "plt.show()"
   ]
  },
  {
   "cell_type": "code",
   "execution_count": null,
   "metadata": {},
   "outputs": [],
   "source": [
    "plt.hist(log_name_length, bins=15, rwidth=.9)\n",
    "plt.title(\"Country name length\")\n",
    "plt.show()"
   ]
  },
  {
   "cell_type": "code",
   "execution_count": null,
   "metadata": {},
   "outputs": [],
   "source": [
    "plt.hist(info[\"cell_max_min_difficulties\"], bins=20, rwidth=.9)\n",
    "plt.title(\"Games: Hardest cell solution difficulty\")\n",
    "plt.show()"
   ]
  },
  {
   "cell_type": "code",
   "execution_count": null,
   "metadata": {},
   "outputs": [],
   "source": [
    "plt.hist(info[\"num_unique\"], bins=range(10), rwidth=.9)\n",
    "plt.title(\"Games: Number of unique-solution cells\")\n",
    "plt.show()"
   ]
  },
  {
   "cell_type": "code",
   "execution_count": null,
   "metadata": {},
   "outputs": [],
   "source": [
    "info[\"difficulty\"] = 5 * info[\"cell_max_min_difficulties\"] + 2 * info[\"num_unique\"] + 5 * info[\"cat_difficulty\"] + .5 * info[\"cell_sizes_median\"] + .5 * info[\"cat_sizes_median\"]\n",
    "info[\"difficulty\"] = 10 * ((info[\"difficulty\"] - info[\"difficulty\"].min()) / (info[\"difficulty\"].max() - info[\"difficulty\"].min()))\n",
    "\n",
    "easiest = [game for i, game in enumerate(games) if i in info.nsmallest(20, \"difficulty\").index.tolist()]\n",
    "\n",
    "for game in easiest:\n",
    "    display(game.to_dataframe(solution=True))\n",
    "    \n",
    "json.dump([game.to_json() for game in easiest], open(\"../../data/games_easy.json\", mode=\"w\", encoding=\"utf-8\"))"
   ]
  },
  {
   "cell_type": "code",
   "execution_count": null,
   "metadata": {},
   "outputs": [],
   "source": [
    "import matplotlib.pyplot as plt\n",
    "import numpy as np\n",
    "\n",
    "plt.figure(figsize=(12,3))\n",
    "plt.subplot(121)\n",
    "\n",
    "plt.hist(info[\"max_num_cells\"], rwidth=.9, bins=range(10))\n",
    "plt.xticks(np.arange(.5,10,1), labels=range(10))\n",
    "plt.xlim([-.5,9.5])\n",
    "# plt.xticklabels()\n",
    "plt.title(\"Countries appear in up to x cells\")\n",
    "\n",
    "\n",
    "plt.subplot(122)\n",
    "\n",
    "plt.hist(info[\"max_num_cells_unique_solution\"], rwidth=.9, bins=range(10))\n",
    "plt.xticks(np.arange(.5,10,1), labels=range(10))\n",
    "plt.xlim([-.5,9.5])\n",
    "# plt.xticklabels()\n",
    "plt.title(\"Countries appear in up to x cells as unique solution\")\n",
    "plt.show()"
   ]
  },
  {
   "cell_type": "code",
   "execution_count": null,
   "metadata": {},
   "outputs": [],
   "source": [
    "import matplotlib.pyplot as plt\n",
    "\n",
    "plt.hist(info[\"cat_difficulty\"], rwidth=.9)\n",
    "plt.title(\"Category difficulty sum\")\n",
    "plt.show()"
   ]
  },
  {
   "cell_type": "code",
   "execution_count": null,
   "metadata": {},
   "outputs": [],
   "source": [
    "games[0].to_json()"
   ]
  },
  {
   "cell_type": "code",
   "execution_count": null,
   "metadata": {},
   "outputs": [],
   "source": [
    "# save()"
   ]
  },
  {
   "cell_type": "code",
   "execution_count": null,
   "metadata": {},
   "outputs": [],
   "source": []
  }
 ],
 "metadata": {
  "kernelspec": {
   "display_name": "Python 3",
   "language": "python",
   "name": "python3"
  },
  "language_info": {
   "codemirror_mode": {
    "name": "ipython",
    "version": 3
   },
   "file_extension": ".py",
   "mimetype": "text/x-python",
   "name": "python",
   "nbconvert_exporter": "python",
   "pygments_lexer": "ipython3",
   "version": "3.8.5"
  }
 },
 "nbformat": 4,
 "nbformat_minor": 4
}
