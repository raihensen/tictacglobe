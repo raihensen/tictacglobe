{
 "cells": [
  {
   "cell_type": "code",
   "execution_count": null,
   "metadata": {},
   "outputs": [],
   "source": [
    "import preprocessing"
   ]
  },
  {
   "cell_type": "code",
   "execution_count": null,
   "metadata": {},
   "outputs": [],
   "source": [
    "# from importlib import reload\n",
    "# reload(preprocessing)"
   ]
  },
  {
   "cell_type": "code",
   "execution_count": null,
   "metadata": {},
   "outputs": [],
   "source": [
    "df = preprocessing.df"
   ]
  },
  {
   "cell_type": "markdown",
   "metadata": {},
   "source": [
    "# Compute country difficulties"
   ]
  },
  {
   "cell_type": "code",
   "execution_count": null,
   "metadata": {},
   "outputs": [],
   "source": [
    "def normalize(x: pd.Series, scale=1):\n",
    "    return scale * (x - x.min()) / (x.max() - x.min())"
   ]
  },
  {
   "cell_type": "code",
   "execution_count": null,
   "metadata": {},
   "outputs": [],
   "source": [
    "import numpy as np\n",
    "\n",
    "log_name_length = normalize(df[\"name\"].apply(len).apply(np.log), scale=10)\n",
    "log_population = normalize(np.log(df[\"population\"]), scale=10)\n",
    "log_gdp = normalize(np.log(df[\"gdp\"]), scale=10)\n",
    "\n",
    "df[\"difficulty\"] = 10 - normalize(1 * log_population + 2 * log_gdp - .1 * log_name_length, scale=10)\n",
    "\n",
    "# df1 = df.nsmallest(50, \"difficulty\").reset_index()\n",
    "# df1\n",
    "# df1[df1[\"landlocked\"]][[\"iso\", \"difficulty\", \"gdp\", \"population\"]]"
   ]
  },
  {
   "cell_type": "code",
   "execution_count": null,
   "metadata": {},
   "outputs": [],
   "source": []
  },
  {
   "cell_type": "code",
   "execution_count": null,
   "metadata": {},
   "outputs": [],
   "source": [
    "df.nlargest(20, \"difficulty\")[[\"name\", \"gdp\", \"population\", \"difficulty\"]]"
   ]
  },
  {
   "cell_type": "code",
   "execution_count": null,
   "metadata": {},
   "outputs": [],
   "source": [
    "import pandas as pd\n",
    "\n",
    "# Sample data (replace this with your actual DataFrame)\n",
    "data = df[[\"iso\", \"name\", \"continent\", \"difficulty\"]].copy()\n",
    "data.rename(columns={\"continent\": \"category\"}, inplace=True)\n",
    "\n",
    "# Step 1: Calculate average difficulty per category\n",
    "# Step 2: Calculate standard deviation per category\n",
    "# Step 3: Adjust for category size (you can adjust the value to your liking)\n",
    "categories = pd.DataFrame({\"avg\": data.groupby('category')['difficulty'].mean(),\n",
    "                           \"median\": data.groupby('category')['difficulty'].median(),\n",
    "                           \"std\": data.groupby('category')['difficulty'].std(),\n",
    "                           \"size\": data['category'].value_counts()})\n",
    "\n",
    "# Idea: entropy (europe is easy because oceania is hard)\n",
    "\n",
    "# Step 4: Combine\n",
    "# Step 5: Normalize\n",
    "categories[\"difficulty\"] = normalize(2 * categories[\"avg\"] + categories[\"std\"] + np.sqrt(categories[\"size\"]), scale=10)\n",
    "\n",
    "categories.sort_values(\"difficulty\")"
   ]
  },
  {
   "cell_type": "code",
   "execution_count": null,
   "metadata": {},
   "outputs": [],
   "source": []
  },
  {
   "cell_type": "code",
   "execution_count": null,
   "metadata": {},
   "outputs": [],
   "source": [
    "def entropy(x: pd.Series) -> float:\n",
    "    p = x.value_counts() / len(x)\n",
    "    return np.sum(-p * np.log2(p))\n",
    "\n",
    "def entropies(x: pd.Series, y: pd.Series):\n",
    "    pass\n",
    "#     return pd.concat([x, y], axis=1).groupby(x.name)[y.name].agg(entropy)\n",
    "\n",
    "\n",
    "# entropy(pd.Series(np.array([1,2,3,4])))\n",
    "# entropy(pd.Series(np.array([1,1,1,1])))\n",
    "# entropies(df[\"continent\"], df[\"difficulty\"])"
   ]
  },
  {
   "cell_type": "code",
   "execution_count": null,
   "metadata": {},
   "outputs": [],
   "source": [
    "import matplotlib.pyplot as plt\n",
    "\n",
    "plt.scatter(x=np.log(df[\"gdp\"]), y=df[\"difficulty\"])\n",
    "plt.show()"
   ]
  },
  {
   "cell_type": "code",
   "execution_count": null,
   "metadata": {},
   "outputs": [],
   "source": []
  },
  {
   "cell_type": "code",
   "execution_count": null,
   "metadata": {},
   "outputs": [],
   "source": [
    "# import importlib\n",
    "# importlib.reload(preprocessing)"
   ]
  },
  {
   "cell_type": "code",
   "execution_count": null,
   "metadata": {},
   "outputs": [],
   "source": [
    "categories = preprocessing.categories"
   ]
  },
  {
   "cell_type": "code",
   "execution_count": null,
   "metadata": {},
   "outputs": [],
   "source": [
    "from game import *\n",
    "\n",
    "constraints = [\n",
    "    # We always want a continent\n",
    "    Constraint.category_at_least(\"continent\", 1),\n",
    "    \n",
    "    # Some categories are pretty boring to appear multiple times\n",
    "    Constraint.category_at_most(\"capital_ending_letter\", 1),\n",
    "    Constraint.category_at_most(\"capital_starting_letter\", 1),\n",
    "    Constraint.category_at_most(\"ending_letter\", 1)\n",
    "]\n",
    "\n",
    "games = [preprocessing.create_game(constraints, shuffle=True) for _ in range(1000)]"
   ]
  },
  {
   "cell_type": "code",
   "execution_count": null,
   "metadata": {
    "scrolled": false
   },
   "outputs": [],
   "source": [
    "def get_difficulty(game):\n",
    "    game_cats = [cat for cat, val in game.rows + game.cols]\n",
    "    cat_sizes = [len(cat.sets) for cat in game_cats]\n",
    "    \n",
    "    solutions = sum([[cell for cell in row] for row in game.solutions], [])\n",
    "    alt_solutions = sum([[cell for cell in row] for row in game.alt_solutions], [])\n",
    "    all_solutions = list(sorted(set(sum(solutions + alt_solutions, []))))\n",
    "    cell_sizes = list(map(len, solutions))\n",
    "    num_unique = len([i for i, size in enumerate(cell_sizes) if size == 1])\n",
    "    cat_difficulty = sum(cat.difficulty for cat in game_cats)\n",
    "    \n",
    "    return {\n",
    "        \"cell_sizes\": cell_sizes,\n",
    "        \"cell_sizes_median\": pd.Series(cell_sizes).median(),\n",
    "        \"cell_min_difficulties\": [df[df[\"iso\"].isin(cell)][\"difficulty\"].min() for cell in solutions],\n",
    "        \"cell_median_difficulties\": [df[df[\"iso\"].isin(cell)][\"difficulty\"].median() for cell in solutions],\n",
    "        \"num_unique\": num_unique,\n",
    "        \"max_num_cells\": max(len([cell for cell in solutions if c in cell]) for c in all_solutions),\n",
    "        \"max_num_cells_unique_solution\": max(len([cell for cell in solutions if len(cell) == 1 and c in cell]) for c in all_solutions),\n",
    "        \"cat_sizes\": cat_sizes,\n",
    "        \"all_solutions\": len(all_solutions),\n",
    "        \"cat_sizes_median\": pd.Series(cell_sizes).median(),\n",
    "        \"cat_difficulty\": cat_difficulty / len(game_cats)\n",
    "    }\n",
    "\n",
    "info = pd.DataFrame([{\"game\": game, **get_difficulty(game)} for game in games])\n",
    "# info[\"score\"] = -info[\"num_unique\"] + info[\"cat_difficulty\"] + info[\"cell_sizes_median\"] + info[\"cat_sizes_median\"]\n",
    "\n",
    "info[\"cell_max_min_difficulties\"] = info[\"cell_min_difficulties\"].apply(max)\n",
    "\n",
    "\n",
    "# info.head(30)\n",
    "\n",
    "# idea: countries with small population / size are harder to guess\n",
    "# log(sum(populations of all solution)) median of all cells"
   ]
  },
  {
   "cell_type": "code",
   "execution_count": null,
   "metadata": {},
   "outputs": [],
   "source": [
    "info"
   ]
  },
  {
   "cell_type": "code",
   "execution_count": null,
   "metadata": {},
   "outputs": [],
   "source": [
    "plt.hist(df[\"difficulty\"], bins=20, rwidth=.9)\n",
    "plt.title(\"Country difficulties\")\n",
    "plt.show()"
   ]
  },
  {
   "cell_type": "code",
   "execution_count": null,
   "metadata": {},
   "outputs": [],
   "source": [
    "plt.hist(log_name_length, bins=15, rwidth=.9)\n",
    "plt.title(\"Country name length\")\n",
    "plt.show()"
   ]
  },
  {
   "cell_type": "code",
   "execution_count": null,
   "metadata": {},
   "outputs": [],
   "source": [
    "plt.hist(info[\"cell_max_min_difficulties\"], bins=20, rwidth=.9)\n",
    "plt.title(\"Games: Hardest cell solution difficulty\")\n",
    "plt.show()"
   ]
  },
  {
   "cell_type": "code",
   "execution_count": null,
   "metadata": {},
   "outputs": [],
   "source": [
    "plt.hist(info[\"num_unique\"], bins=range(10), rwidth=.9)\n",
    "plt.title(\"Games: Number of unique-solution cells\")\n",
    "plt.show()"
   ]
  },
  {
   "cell_type": "code",
   "execution_count": null,
   "metadata": {},
   "outputs": [],
   "source": [
    "info[\"difficulty\"] = 5 * info[\"cell_max_min_difficulties\"] + 2 * info[\"num_unique\"] + 5 * info[\"cat_difficulty\"] + .5 * info[\"cell_sizes_median\"] + .5 * info[\"cat_sizes_median\"]\n",
    "info[\"difficulty\"] = 10 * ((info[\"difficulty\"] - info[\"difficulty\"].min()) / (info[\"difficulty\"].max() - info[\"difficulty\"].min()))\n",
    "\n",
    "easiest = [game for i, game in enumerate(games) if i in info.nsmallest(20, \"difficulty\").index.tolist()]\n",
    "\n",
    "for game in easiest:\n",
    "    display(game.to_dataframe(solution=True))\n",
    "    \n",
    "json.dump([game.to_json() for game in easiest], open(\"../../data/games_easy.json\", mode=\"w\", encoding=\"utf-8\"))"
   ]
  },
  {
   "cell_type": "code",
   "execution_count": null,
   "metadata": {},
   "outputs": [],
   "source": [
    "import matplotlib.pyplot as plt\n",
    "import numpy as np\n",
    "\n",
    "plt.figure(figsize=(12,3))\n",
    "plt.subplot(121)\n",
    "\n",
    "plt.hist(info[\"max_num_cells\"], rwidth=.9, bins=range(10))\n",
    "plt.xticks(np.arange(.5,10,1), labels=range(10))\n",
    "plt.xlim([-.5,9.5])\n",
    "# plt.xticklabels()\n",
    "plt.title(\"Countries appear in up to x cells\")\n",
    "\n",
    "\n",
    "plt.subplot(122)\n",
    "\n",
    "plt.hist(info[\"max_num_cells_unique_solution\"], rwidth=.9, bins=range(10))\n",
    "plt.xticks(np.arange(.5,10,1), labels=range(10))\n",
    "plt.xlim([-.5,9.5])\n",
    "# plt.xticklabels()\n",
    "plt.title(\"Countries appear in up to x cells as unique solution\")\n",
    "plt.show()"
   ]
  },
  {
   "cell_type": "code",
   "execution_count": null,
   "metadata": {},
   "outputs": [],
   "source": [
    "import matplotlib.pyplot as plt\n",
    "\n",
    "plt.hist(info[\"cat_difficulty\"], rwidth=.9)\n",
    "plt.title(\"Category difficulty sum\")\n",
    "plt.show()"
   ]
  },
  {
   "cell_type": "code",
   "execution_count": null,
   "metadata": {},
   "outputs": [],
   "source": [
    "games[0].to_json()"
   ]
  },
  {
   "cell_type": "code",
   "execution_count": null,
   "metadata": {},
   "outputs": [],
   "source": [
    "import json\n",
    "\n",
    "def save():\n",
    "    json.dump([game.to_json() for game in games], open(\"../../data/games1.json\", mode=\"w\", encoding=\"utf-8\"))"
   ]
  },
  {
   "cell_type": "code",
   "execution_count": null,
   "metadata": {},
   "outputs": [],
   "source": [
    "# save()"
   ]
  },
  {
   "cell_type": "code",
   "execution_count": null,
   "metadata": {},
   "outputs": [],
   "source": []
  }
 ],
 "metadata": {
  "kernelspec": {
   "display_name": "Python 3",
   "language": "python",
   "name": "python3"
  },
  "language_info": {
   "codemirror_mode": {
    "name": "ipython",
    "version": 3
   },
   "file_extension": ".py",
   "mimetype": "text/x-python",
   "name": "python",
   "nbconvert_exporter": "python",
   "pygments_lexer": "ipython3",
   "version": "3.8.5"
  }
 },
 "nbformat": 4,
 "nbformat_minor": 4
}
