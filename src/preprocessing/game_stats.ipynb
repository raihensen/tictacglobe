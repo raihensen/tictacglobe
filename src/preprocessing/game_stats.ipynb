{
 "cells": [
  {
   "cell_type": "code",
   "execution_count": null,
   "metadata": {},
   "outputs": [],
   "source": [
    "import json\n",
    "import pandas as pd\n",
    "import numpy as np\n",
    "import matplotlib.pyplot as plt\n",
    "import datetime\n",
    "from enum import Enum, auto"
   ]
  },
  {
   "cell_type": "code",
   "execution_count": null,
   "metadata": {
    "scrolled": true
   },
   "outputs": [],
   "source": [
    "import preprocessing\n",
    "df = preprocessing.df\n",
    "categories = preprocessing.categories"
   ]
  },
  {
   "cell_type": "code",
   "execution_count": null,
   "metadata": {},
   "outputs": [],
   "source": [
    "# setkeys = pd.DataFrame(preprocessing.setkeys, columns=[\"key\", \"value\"])\n",
    "# cat_sizes = setkeys[\"key\"].value_counts()\n",
    "# c = cat_sizes.to_numpy()\n",
    "# w = 1 / np.sqrt(c)\n",
    "# dict(zip(cat_sizes.index, w / np.sum(w)))"
   ]
  },
  {
   "cell_type": "markdown",
   "metadata": {},
   "source": [
    "### Show all alternative values"
   ]
  },
  {
   "cell_type": "code",
   "execution_count": null,
   "metadata": {
    "scrolled": false
   },
   "outputs": [],
   "source": [
    "# altcols = [col for col in df.columns if col.endswith(\"_alt\")]\n",
    "# print(\"\\nAll countries with alternative values:\")\n",
    "# display(df[df[altcols].applymap(len).sum(axis=1) > 0])"
   ]
  },
  {
   "cell_type": "code",
   "execution_count": null,
   "metadata": {},
   "outputs": [],
   "source": [
    "class DifficultyLevel(Enum):\n",
    "    EASY = \"easy\"\n",
    "    MEDIUM = \"medium\"\n",
    "    HARD = \"hard\"\n",
    "    \n",
    "    def __str__(self):\n",
    "        return self.value\n",
    "    \n",
    "    def __repr__(self):\n",
    "        return str(self)"
   ]
  },
  {
   "cell_type": "code",
   "execution_count": null,
   "metadata": {},
   "outputs": [],
   "source": [
    "def save_games(games, name: str, difficulty_level=None):\n",
    "    timestamp = datetime.datetime.now().strftime(\"%Y%m%d-%H%M%S\")\n",
    "    info = [timestamp, name, lang]\n",
    "    if difficulty_level is not None:\n",
    "        info.append(str(difficulty_level).lower())\n",
    "    path = f\"../../data/games-{'-'.join(info)}.json\"\n",
    "    json.dump([game.to_json() for game in games], open(path, mode=\"w\", encoding=\"utf-8\"))\n",
    "    print(f\"{len(games)} games saved to {path}\")"
   ]
  },
  {
   "cell_type": "code",
   "execution_count": null,
   "metadata": {},
   "outputs": [],
   "source": [
    "from game import Constraint, GameGenerator\n",
    "\n",
    "constraints = [\n",
    "    # Some categories are pretty boring to appear multiple times\n",
    "    Constraint.category_at_most(\"capital_ending_letter\", 1),\n",
    "    Constraint.category_at_most(\"capital_starting_letter\", 1),\n",
    "    Constraint.category_at_most(\"ending_letter\", 1)\n",
    "]\n",
    "category_probs = {\n",
    "    'continent': 4,\n",
    "    'starting_letter': 3,\n",
    "    'ending_letter': 1.5,\n",
    "    'capital_starting_letter': 2,\n",
    "    'capital_ending_letter': .5,\n",
    "    'flag_colors': 3,\n",
    "    'landlocked': 4,\n",
    "    'island': 4\n",
    "}"
   ]
  },
  {
   "cell_type": "code",
   "execution_count": null,
   "metadata": {},
   "outputs": [],
   "source": []
  },
  {
   "cell_type": "code",
   "execution_count": null,
   "metadata": {},
   "outputs": [],
   "source": [
    "# generator = preprocessing.get_generator(constraints, category_probs, field_size=3,\n",
    "#                                         seed=None, selection_mode=\"shuffle_setkeys\", uniform=False, shuffle=True)\n",
    "# games = generator.sample_games(n=1000)\n",
    "# save_games(games, \"2-more-categories\")"
   ]
  },
  {
   "cell_type": "code",
   "execution_count": null,
   "metadata": {},
   "outputs": [],
   "source": [
    "from importlib import reload\n",
    "reload(preprocessing)"
   ]
  },
  {
   "cell_type": "code",
   "execution_count": null,
   "metadata": {},
   "outputs": [],
   "source": []
  },
  {
   "cell_type": "code",
   "execution_count": null,
   "metadata": {},
   "outputs": [],
   "source": [
    "generator1 = preprocessing.get_generator(constraints, category_probs, field_size=3,\n",
    "                                         seed=None, selection_mode=\"shuffle_setkeys\", uniform=False, shuffle=True)\n",
    "games1 = list(generator1.sample_games(n=500))\n",
    "\n",
    "# Count category occurences\n",
    "print(pd.Series(sum([[cat.key for cat, value in g.rows + g.cols] for g in games1], [])).value_counts())\n",
    "\n",
    "generator2 = preprocessing.get_generator(constraints, category_probs, field_size=3,\n",
    "                                         seed=None, selection_mode=\"shuffle_categories\", uniform=False, shuffle=True)\n",
    "games2 = list(generator2.sample_games(n=500))\n",
    "\n",
    "# Count category occurences\n",
    "print(pd.Series(sum([[cat.key for cat, value in g.rows + g.cols] for g in games2], [])).value_counts())"
   ]
  },
  {
   "cell_type": "code",
   "execution_count": null,
   "metadata": {},
   "outputs": [],
   "source": []
  },
  {
   "cell_type": "code",
   "execution_count": null,
   "metadata": {
    "scrolled": false
   },
   "outputs": [],
   "source": [
    "for game in games[:20]:\n",
    "    display(game.to_dataframe(solution=True))"
   ]
  },
  {
   "cell_type": "markdown",
   "metadata": {},
   "source": [
    "# Compute country difficulties"
   ]
  },
  {
   "cell_type": "code",
   "execution_count": null,
   "metadata": {},
   "outputs": [],
   "source": [
    "def normalize_zero_centered(x: pd.Series, scale=1):  # map to interval [-scale, +scale]\n",
    "    return scale * (2 * (x - x.min()) / (x.max() - x.min()) - 1)\n",
    "\n",
    "def normalize(x: pd.Series, scale=1):  # map to interval [0, scale]\n",
    "    return scale * (x - x.min()) / (x.max() - x.min())\n",
    "\n",
    "# def normalize_levels(x: pd.Series, scale=10):\n",
    "#     return np.ceil(normalize(x, scale))\n",
    "\n",
    "# def sigmoid(x: pd.Series):\n",
    "#     return 1 / (1 + np.exp(-x))\n",
    "\n",
    "# def normalize_levels_logistic(x: pd.Series, scale=10):\n",
    "#     return normalize_levels(sigmoid(normalize_zero_centered(x)), scale)"
   ]
  },
  {
   "cell_type": "code",
   "execution_count": null,
   "metadata": {},
   "outputs": [],
   "source": [
    "df.loc[df[\"name\"] == \"Monaco\", \"difficulty\"].iloc[0]"
   ]
  },
  {
   "cell_type": "code",
   "execution_count": null,
   "metadata": {},
   "outputs": [],
   "source": [
    "sqrt_name_length = normalize(np.sqrt(df[\"name\"].apply(len)), scale=10)\n",
    "log_population = normalize(np.log(df[\"population\"]), scale=10)\n",
    "log_gdp = normalize(np.log(df[\"gdp\"]), scale=10)\n",
    "log_gdp_per_capita = normalize(np.log(df[\"gdp_per_capita\"]), scale=10)\n",
    "\n",
    "\n",
    "# df[\"difficulty\"] = normalize_levels_logistic((1 * log_population + 2 * log_gdp - .1 * sqrt_name_length) * (-1), scale=10)\n",
    "df[\"difficulty\"] = normalize((1 * log_population + 2 * log_gdp + .5 * log_gdp_per_capita - .25 * sqrt_name_length) * (-1), scale=10)\n",
    "\n",
    "# VATICAN is an outlier. As reference, set as difficult as MONACO.\n",
    "df.loc[df[\"name\"] == \"Vatican\", \"difficulty\"] = df.loc[df[\"name\"] == \"Monaco\", \"difficulty\"].iloc[0]\n",
    "\n",
    "# df1 = df.nsmallest(50, \"difficulty\").reset_index()\n",
    "# df1\n",
    "# df1[df1[\"landlocked\"]][[\"iso\", \"difficulty\", \"gdp\", \"population\"]]\n",
    "# df.nlargest(20, \"difficulty\")[[\"name\", \"gdp\", \"population\", \"difficulty\"]]\n",
    "df[[\"name\", \"gdp\", \"gdp_per_capita\", \"population\", \"difficulty\"]].sort_values(\"difficulty\").head(50)"
   ]
  },
  {
   "cell_type": "code",
   "execution_count": null,
   "metadata": {},
   "outputs": [],
   "source": [
    "categories = preprocessing.categories\n",
    "setkeys = preprocessing.setkeys"
   ]
  },
  {
   "cell_type": "code",
   "execution_count": null,
   "metadata": {},
   "outputs": [],
   "source": [
    "items = df[[\"iso\", \"name\", \"difficulty\"]].copy()\n",
    "for key, value in setkeys:\n",
    "    cat = categories[key]\n",
    "    items[(key, value)] = items.iso.apply(lambda iso: iso in cat.sets.loc[value])"
   ]
  },
  {
   "cell_type": "code",
   "execution_count": null,
   "metadata": {},
   "outputs": [],
   "source": [
    "info = pd.Series({(key, value): items[items[(key, value)]].difficulty.agg(list) for key, value in setkeys})\n",
    "info = info.reset_index()\n",
    "info.columns=[\"key\", \"value\", \"difficulties\"]\n",
    "info[\"cat_difficulty\"] = normalize(info.key.apply(lambda key: categories[key].difficulty), scale=10)\n",
    "info[\"size\"] = info.difficulties.apply(len)\n",
    "info[\"size_score\"] = normalize(-np.sqrt(info[\"size\"]), scale=10)\n",
    "info[\"mean\"] = info.difficulties.apply(np.mean)\n",
    "info[\"min\"] = info.difficulties.apply(min)\n",
    "info[\"max\"] = info.difficulties.apply(max)\n",
    "info[\"median\"] = info.difficulties.apply(np.median)\n",
    "info[\"std\"] = info.difficulties.apply(np.std)\n",
    "info.drop(columns=[\"difficulties\"], inplace=True)\n",
    "info[\"countries\"] = info.apply(lambda row: categories[row[\"key\"]].sets.loc[row[\"value\"]], axis=1)\n",
    "\n",
    "info[\"difficulty\"] = normalize(3 * info[\"median\"] + .5 * info[\"std\"] + 2 * info[\"size_score\"] + 1.5 * info[\"cat_difficulty\"], scale=10)\n",
    "info.nsmallest(20, \"difficulty\")"
   ]
  },
  {
   "cell_type": "code",
   "execution_count": null,
   "metadata": {},
   "outputs": [],
   "source": [
    "info.nlargest(20, \"mean\")"
   ]
  },
  {
   "cell_type": "code",
   "execution_count": null,
   "metadata": {},
   "outputs": [],
   "source": [
    "info[info[\"key\"] == \"flag_colors\"].sort_values(\"std\")"
   ]
  },
  {
   "cell_type": "code",
   "execution_count": null,
   "metadata": {},
   "outputs": [],
   "source": []
  },
  {
   "cell_type": "code",
   "execution_count": null,
   "metadata": {},
   "outputs": [],
   "source": [
    "# Calculate difficulty of continents\n",
    "\n",
    "data = df[[\"iso\", \"name\", \"continent\", \"difficulty\"]].copy()\n",
    "data.rename(columns={\"continent\": \"category\"}, inplace=True)\n",
    "\n",
    "# Step 1: Calculate average difficulty per category\n",
    "# Step 2: Calculate standard deviation per category\n",
    "# Step 3: Adjust for category size (you can adjust the value to your liking)\n",
    "categories = pd.DataFrame({\"avg\": data.groupby('category')['difficulty'].mean(),\n",
    "                           \"median\": data.groupby('category')['difficulty'].median(),\n",
    "                           \"std\": data.groupby('category')['difficulty'].std(),\n",
    "                           \"size\": data['category'].value_counts()})\n",
    "\n",
    "# Idea: entropy (europe is easy because oceania is hard)\n",
    "\n",
    "# Step 4: Combine\n",
    "# Step 5: Normalize\n",
    "categories[\"difficulty\"] = normalize(2 * categories[\"avg\"] + categories[\"std\"] + np.sqrt(categories[\"size\"]), scale=10)\n",
    "\n",
    "categories.sort_values(\"difficulty\")"
   ]
  },
  {
   "cell_type": "code",
   "execution_count": null,
   "metadata": {},
   "outputs": [],
   "source": []
  },
  {
   "cell_type": "code",
   "execution_count": null,
   "metadata": {},
   "outputs": [],
   "source": [
    "def entropy(x: pd.Series) -> float:\n",
    "    p = x.value_counts() / len(x)\n",
    "    return np.sum(-p * np.log2(p))\n",
    "\n",
    "def entropies(x: pd.Series, y: pd.Series):\n",
    "    pass\n",
    "#     return pd.concat([x, y], axis=1).groupby(x.name)[y.name].agg(entropy)\n",
    "\n",
    "\n",
    "# entropy(pd.Series(np.array([1,2,3,4])))\n",
    "# entropy(pd.Series(np.array([1,1,1,1])))\n",
    "# entropies(df[\"continent\"], df[\"difficulty\"])"
   ]
  },
  {
   "cell_type": "code",
   "execution_count": null,
   "metadata": {
    "scrolled": false
   },
   "outputs": [],
   "source": [
    "import matplotlib.pyplot as plt\n",
    "\n",
    "# plt.scatter(x=np.log(df[\"gdp\"]) - np.log(df[\"population\"]), y=df[\"gdp_per_capita\"])\n",
    "# plt.scatter(x=np.log(df[\"population\"]), y=np.log(df[\"gdp\"]), c=df[\"difficulty\"])\n",
    "# plt.scatter(x=np.log(df[\"population\"]), y=np.log(df[\"gdp\"]), c=df[\"difficulty\"])\n",
    "plt.show()"
   ]
  },
  {
   "cell_type": "code",
   "execution_count": null,
   "metadata": {},
   "outputs": [],
   "source": []
  },
  {
   "cell_type": "code",
   "execution_count": null,
   "metadata": {
    "scrolled": false
   },
   "outputs": [],
   "source": [
    "def get_difficulty(game):\n",
    "    game_cats = [cat for cat, val in game.rows + game.cols]\n",
    "    cat_sizes = [len(cat.sets) for cat in game_cats]\n",
    "    \n",
    "    solutions = sum([[cell for cell in row] for row in game.solutions], [])\n",
    "    alt_solutions = sum([[cell for cell in row] for row in game.alt_solutions], [])\n",
    "    all_solutions = list(sorted(set(sum(solutions + alt_solutions, []))))\n",
    "    cell_sizes = list(map(len, solutions))\n",
    "    num_unique = len([i for i, size in enumerate(cell_sizes) if size == 1])\n",
    "    cat_difficulty = sum(cat.difficulty for cat in game_cats)\n",
    "    \n",
    "    return {\n",
    "        \"cell_sizes\": cell_sizes,\n",
    "        \"cell_sizes_median\": pd.Series(cell_sizes).median(),\n",
    "        \"cell_min_difficulties\": [df[df[\"iso\"].isin(cell)][\"difficulty\"].min() for cell in solutions],\n",
    "        \"cell_median_difficulties\": [df[df[\"iso\"].isin(cell)][\"difficulty\"].median() for cell in solutions],\n",
    "        \"num_unique\": num_unique,\n",
    "        \"max_num_cells\": max(len([cell for cell in solutions if c in cell]) for c in all_solutions),\n",
    "        \"max_num_cells_unique_solution\": max(len([cell for cell in solutions if len(cell) == 1 and c in cell]) for c in all_solutions),\n",
    "        \"cat_sizes\": cat_sizes,\n",
    "        \"all_solutions\": len(all_solutions),\n",
    "        \"cat_sizes_median\": pd.Series(cell_sizes).median(),\n",
    "        \"cat_difficulty\": cat_difficulty / len(game_cats)\n",
    "    }\n",
    "\n",
    "# info = pd.DataFrame([{\"game\": game, **get_difficulty(game)} for game in games])\n",
    "# info[\"score\"] = -info[\"num_unique\"] + info[\"cat_difficulty\"] + info[\"cell_sizes_median\"] + info[\"cat_sizes_median\"]\n",
    "\n",
    "info[\"cell_max_min_difficulties\"] = info[\"cell_min_difficulties\"].apply(max)\n",
    "\n",
    "\n",
    "# info.head(30)\n",
    "\n",
    "# idea: countries with small population / size are harder to guess\n",
    "# log(sum(populations of all solution)) median of all cells"
   ]
  },
  {
   "cell_type": "code",
   "execution_count": null,
   "metadata": {},
   "outputs": [],
   "source": [
    "info"
   ]
  },
  {
   "cell_type": "code",
   "execution_count": null,
   "metadata": {},
   "outputs": [],
   "source": [
    "plt.hist(df[\"difficulty\"], bins=20, rwidth=.9)\n",
    "plt.title(\"Country difficulties\")\n",
    "plt.show()"
   ]
  },
  {
   "cell_type": "code",
   "execution_count": null,
   "metadata": {},
   "outputs": [],
   "source": [
    "plt.hist(log_name_length, bins=15, rwidth=.9)\n",
    "plt.title(\"Country name length\")\n",
    "plt.show()"
   ]
  },
  {
   "cell_type": "code",
   "execution_count": null,
   "metadata": {},
   "outputs": [],
   "source": [
    "plt.hist(info[\"cell_max_min_difficulties\"], bins=20, rwidth=.9)\n",
    "plt.title(\"Games: Hardest cell solution difficulty\")\n",
    "plt.show()"
   ]
  },
  {
   "cell_type": "code",
   "execution_count": null,
   "metadata": {},
   "outputs": [],
   "source": [
    "plt.hist(info[\"num_unique\"], bins=range(10), rwidth=.9)\n",
    "plt.title(\"Games: Number of unique-solution cells\")\n",
    "plt.show()"
   ]
  },
  {
   "cell_type": "code",
   "execution_count": null,
   "metadata": {},
   "outputs": [],
   "source": [
    "info[\"difficulty\"] = 5 * info[\"cell_max_min_difficulties\"] + 2 * info[\"num_unique\"] + 5 * info[\"cat_difficulty\"] + .5 * info[\"cell_sizes_median\"] + .5 * info[\"cat_sizes_median\"]\n",
    "info[\"difficulty\"] = 10 * ((info[\"difficulty\"] - info[\"difficulty\"].min()) / (info[\"difficulty\"].max() - info[\"difficulty\"].min()))\n",
    "\n",
    "easiest = [game for i, game in enumerate(games) if i in info.nsmallest(20, \"difficulty\").index.tolist()]\n",
    "\n",
    "for game in easiest:\n",
    "    display(game.to_dataframe(solution=True))\n",
    "    \n",
    "json.dump([game.to_json() for game in easiest], open(\"../../data/games_easy.json\", mode=\"w\", encoding=\"utf-8\"))"
   ]
  },
  {
   "cell_type": "code",
   "execution_count": null,
   "metadata": {},
   "outputs": [],
   "source": [
    "import matplotlib.pyplot as plt\n",
    "import numpy as np\n",
    "\n",
    "plt.figure(figsize=(12,3))\n",
    "plt.subplot(121)\n",
    "\n",
    "plt.hist(info[\"max_num_cells\"], rwidth=.9, bins=range(10))\n",
    "plt.xticks(np.arange(.5,10,1), labels=range(10))\n",
    "plt.xlim([-.5,9.5])\n",
    "# plt.xticklabels()\n",
    "plt.title(\"Countries appear in up to x cells\")\n",
    "\n",
    "\n",
    "plt.subplot(122)\n",
    "\n",
    "plt.hist(info[\"max_num_cells_unique_solution\"], rwidth=.9, bins=range(10))\n",
    "plt.xticks(np.arange(.5,10,1), labels=range(10))\n",
    "plt.xlim([-.5,9.5])\n",
    "# plt.xticklabels()\n",
    "plt.title(\"Countries appear in up to x cells as unique solution\")\n",
    "plt.show()"
   ]
  },
  {
   "cell_type": "code",
   "execution_count": null,
   "metadata": {},
   "outputs": [],
   "source": [
    "import matplotlib.pyplot as plt\n",
    "\n",
    "plt.hist(info[\"cat_difficulty\"], rwidth=.9)\n",
    "plt.title(\"Category difficulty sum\")\n",
    "plt.show()"
   ]
  },
  {
   "cell_type": "code",
   "execution_count": null,
   "metadata": {},
   "outputs": [],
   "source": [
    "games[0].to_json()"
   ]
  },
  {
   "cell_type": "code",
   "execution_count": null,
   "metadata": {},
   "outputs": [],
   "source": [
    "# save()"
   ]
  },
  {
   "cell_type": "code",
   "execution_count": null,
   "metadata": {},
   "outputs": [],
   "source": []
  }
 ],
 "metadata": {
  "kernelspec": {
   "display_name": "Python 3",
   "language": "python",
   "name": "python3"
  },
  "language_info": {
   "codemirror_mode": {
    "name": "ipython",
    "version": 3
   },
   "file_extension": ".py",
   "mimetype": "text/x-python",
   "name": "python",
   "nbconvert_exporter": "python",
   "pygments_lexer": "ipython3",
   "version": "3.8.5"
  }
 },
 "nbformat": 4,
 "nbformat_minor": 4
}
