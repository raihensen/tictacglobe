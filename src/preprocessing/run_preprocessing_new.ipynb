{
 "cells": [
  {
   "cell_type": "code",
   "execution_count": null,
   "metadata": {},
   "outputs": [],
   "source": [
    "import pandas as pd\n",
    "from generator import Constraint\n",
    "from utils import *\n",
    "\n",
    "# Ensure we're running in the right directory\n",
    "chdir_this_file()\n",
    "\n",
    "FIELD_SIZE = 3\n",
    "MIN_CELL_SIZE = 1\n",
    "MAX_CELL_SIZE = None\n",
    "CONSTRAINTS = lambda countries: [\n",
    "    # Some categories are pretty boring to appear multiple times\n",
    "    Constraint.category_at_most(\"capital_ending_letter\", 1),\n",
    "    Constraint.category_at_most(\"capital_starting_letter\", 1),\n",
    "    Constraint.category_at_most(\"ending_letter\", 1),\n",
    "    # Limit the number of cells a country can appear in\n",
    "    *Constraint.solutions_at_most(countries.iso.tolist(), 3)\n",
    "]\n",
    "CATEGORY_PROBS = {\n",
    "    \"continent\": 4,\n",
    "    \"starting_letter\": 3,\n",
    "    \"ending_letter\": 1.5,\n",
    "    \"capital_starting_letter\": 2,\n",
    "    \"capital_ending_letter\": .5,\n",
    "    \"flag_colors\": 3,\n",
    "    \"landlocked\": 2,\n",
    "    \"island\": 2,\n",
    "    \"top_20_population\": 2.5,\n",
    "    \"bottom_20_population\": 2,\n",
    "    \"top_20_area\": 2.5,\n",
    "    \"bottom_20_area\": 2,\n",
    "    \"elevation_sup5k\": 2.5,\n",
    "    \"elevation_sub1k\": 2,\n",
    "    \"capital_not_largest\": 2,\n",
    "}"
   ]
  },
  {
   "cell_type": "code",
   "execution_count": null,
   "metadata": {},
   "outputs": [],
   "source": [
    "from preprocessing import Preprocessor\n",
    "from difficulty import DifficultyEstimator, DifficultyLevel\n",
    "\n",
    "LANGUAGES = [\"de\", \"en\"]\n",
    "NUM_GAMES = 5000\n",
    "RUN_NAME = \"enhanced-difficulty\"\n",
    "\n",
    "class GenerationPipeline:\n",
    "    def __init__(self, languge):\n",
    "        self.language = language\n",
    "        self.countries = pd.read_json(f\"../../public/data/countries/countries-{self.language.lower()}.json\", encoding=\"utf8\")\n",
    "        self.preprocessor = Preprocessor(countries=self.countries,\n",
    "                                         language=self.language,\n",
    "                                         field_size=FIELD_SIZE,\n",
    "                                         min_cell_size=MIN_CELL_SIZE,\n",
    "                                         max_cell_size=MAX_CELL_SIZE)\n",
    "        self.constraints = CONSTRAINTS(self.countries)\n",
    "        self.generator = self.preprocessor.get_generator(self.constraints, CATEGORY_PROBS,\n",
    "                                                         seed=None, selection_mode=\"shuffle_setkeys\",\n",
    "                                                         uniform=False, shuffle=True)\n",
    "        self.estimator = DifficultyEstimator(self.preprocessor)\n",
    "        \n",
    "    def generate(self):\n",
    "        # Generate games\n",
    "        self.games = list(self.generator.sample_games(n=NUM_GAMES))\n",
    "        # Difficulty computation\n",
    "        self.difficulty_info = self.estimator.compute_game_difficulties(self.games)\n",
    "        # Save games and categories to JSON file\n",
    "        # self.preprocessor.save_games(self.games, name=RUN_NAME)\n",
    "\n",
    "pipelines = {}\n",
    "for language in LANGUAGES:\n",
    "    pipelines[language] = GenerationPipeline(language)\n",
    "    pipelines[language].generate()"
   ]
  },
  {
   "cell_type": "code",
   "execution_count": null,
   "metadata": {},
   "outputs": [],
   "source": [
    "EN = pipelines[\"en\"]\n",
    "DE = pipelines[\"de\"]\n",
    "EN.games[0].data"
   ]
  },
  {
   "cell_type": "code",
   "execution_count": null,
   "metadata": {},
   "outputs": [],
   "source": [
    "from importlib import reload\n",
    "import difficulty as diff\n",
    "reload(diff)\n",
    "EN.estimator = diff.DifficultyEstimator(EN.preprocessor)\n",
    "EN.estimator = diff.DifficultyEstimator(EN.preprocessor)\n",
    "EN.difficulty_info = EN.estimator.compute_game_difficulties(EN.games)\n",
    "DE.difficulty_info = DE.estimator.compute_game_difficulties(DE.games)"
   ]
  },
  {
   "cell_type": "code",
   "execution_count": null,
   "metadata": {},
   "outputs": [],
   "source": [
    "EN.estimator.cell_info.sort_values(\"difficulty\")"
   ]
  },
  {
   "cell_type": "code",
   "execution_count": null,
   "metadata": {},
   "outputs": [],
   "source": [
    "EN.estimator.cell_info[\"level\"].value_counts()"
   ]
  },
  {
   "cell_type": "code",
   "execution_count": null,
   "metadata": {},
   "outputs": [],
   "source": [
    "import matplotlib.pyplot as plt\n",
    "import seaborn as sns\n",
    "# x = \"solution_difficulty\"\n",
    "# y = \"min_solution_difficulty\"\n",
    "# plt.scatter(EN.estimator.cell_info[x], EN.estimator.cell_info[y])\n",
    "# plt.xlabel(x)\n",
    "# plt.ylabel(y)\n",
    "# plt.show()\n",
    "\n",
    "sns.pairplot(EN.estimator.cell_info, vars=[\"difficulty\", \"solution_difficulty\", \"min_solution_difficulty\"])\n",
    "plt.show()"
   ]
  },
  {
   "cell_type": "code",
   "execution_count": null,
   "metadata": {},
   "outputs": [],
   "source": [
    "EN.difficulty_info"
   ]
  },
  {
   "cell_type": "code",
   "execution_count": null,
   "metadata": {},
   "outputs": [],
   "source": [
    "[lvl for lvl in DifficultyLevel]"
   ]
  },
  {
   "cell_type": "code",
   "execution_count": null,
   "metadata": {},
   "outputs": [],
   "source": [
    "EN.difficulty_info"
   ]
  },
  {
   "cell_type": "code",
   "execution_count": null,
   "metadata": {},
   "outputs": [],
   "source": [
    "EN.difficulty_info[\"cell_levels\"].apply(lambda lvls: \", \".join(sorted(list(lvls.keys()))))"
   ]
  },
  {
   "cell_type": "code",
   "execution_count": null,
   "metadata": {},
   "outputs": [],
   "source": [
    "def count_cell_levels(preprocessor, cell_indices):\n",
    "    levels = [str(EN.estimator.cell_info.loc[i, \"level\"]) for i in cell_indices]\n",
    "    return {str(lvl): levels.count(str(lvl)) for lvl in DifficultyLevel}\n",
    "EN.difficulty_info[\"cell_levels\"] = EN.difficulty_info[\"cell_indices\"].apply(lambda ii: count_cell_levels(EN, ii))\n",
    "EN.difficulty_info[\"cell_levels_str\"] = EN.difficulty_info[\"cell_levels\"].apply(lambda lvls: f'{lvls[\"easy\"]}{lvls[\"medium\"]}{lvls[\"hard\"]}')\n",
    "# EN.difficulty_info.sort_values(\"cell_levels_str\", ascending=False)\n",
    "cell_levels_str_counts = EN.difficulty_info[\"cell_levels_str\"].value_counts()"
   ]
  },
  {
   "cell_type": "code",
   "execution_count": null,
   "metadata": {},
   "outputs": [],
   "source": [
    "cell_levels_str_counts"
   ]
  },
  {
   "cell_type": "code",
   "execution_count": null,
   "metadata": {},
   "outputs": [],
   "source": [
    "stats = pd.DataFrame([\n",
    "    {\n",
    "        \"easy\": easy,\n",
    "        \"medium\": 9 - easy - hard,\n",
    "        \"hard\": hard,\n",
    "        \"num\": int(cell_levels_str_counts.get(f\"{easy}{9 - easy - hard}{hard}\", 0)),\n",
    "    }\n",
    "    for easy in range(10)\n",
    "    for hard in range(10 - easy)\n",
    "])\n",
    "plt.scatter(\n",
    "    stats[\"easy\"],\n",
    "    stats[\"hard\"],\n",
    "    s=stats[\"num\"],\n",
    ")\n",
    "plt.xlabel(\"easy\")\n",
    "plt.ylabel(\"hard\")\n",
    "plt.show()\n",
    "plt.legend()"
   ]
  },
  {
   "cell_type": "code",
   "execution_count": null,
   "metadata": {},
   "outputs": [],
   "source": [
    "game = EN.games[0]"
   ]
  },
  {
   "cell_type": "code",
   "execution_count": null,
   "metadata": {},
   "outputs": [],
   "source": [
    "game.rows, game.cols"
   ]
  },
  {
   "cell_type": "code",
   "execution_count": null,
   "metadata": {},
   "outputs": [],
   "source": [
    "(row_cat, row_val), (col_cat, col_val) = game.rows[0], game.cols[0]\n",
    "row_cat, col_cat"
   ]
  },
  {
   "cell_type": "code",
   "execution_count": null,
   "metadata": {},
   "outputs": [],
   "source": [
    "row_cat.sets"
   ]
  },
  {
   "cell_type": "code",
   "execution_count": null,
   "metadata": {},
   "outputs": [],
   "source": [
    "EN.estimator.category_info"
   ]
  },
  {
   "cell_type": "code",
   "execution_count": null,
   "metadata": {},
   "outputs": [],
   "source": [
    "categories[\"flag_colors\"].sets"
   ]
  },
  {
   "cell_type": "code",
   "execution_count": null,
   "metadata": {},
   "outputs": [],
   "source": [
    "import numpy as np\n",
    "from category import Category\n",
    "\n",
    "\n",
    "def category_entropy(category: Category, preprocessor: Preprocessor):\n",
    "    contained = set().union(*category.sets)  # type: ignore\n",
    "    all_codes = set(preprocessor.df[\"iso\"])\n",
    "    rest = all_codes - contained\n",
    "    sizes = np.array([len(s) for s in category.sets] + ([len(rest)] if rest else []))  # type: ignore\n",
    "    print(category.key, sizes)\n",
    "    # if sum(sizes) < len(category.values):\n",
    "    ps = 1 / sizes\n",
    "    return -1 * (ps * np.log(ps)).sum()\n",
    "\n",
    "categories = EN.preprocessor.categories\n",
    "pd.DataFrame(\n",
    "    [\n",
    "        {\n",
    "            \"key\": cat.key,\n",
    "            \"entropy\": category_entropy(cat, EN.preprocessor),\n",
    "        }\n",
    "        for cat in categories.values()\n",
    "    ]\n",
    ").sort_values(\"entropy\")"
   ]
  },
  {
   "cell_type": "code",
   "execution_count": null,
   "metadata": {},
   "outputs": [],
   "source": []
  },
  {
   "cell_type": "code",
   "execution_count": null,
   "metadata": {},
   "outputs": [],
   "source": [
    "EN.estimator.cell_info.apply(\n",
    "    lambda row: (\n",
    "        len(EN.preprocessor.categories[row[\"row_cat\"]].sets[row[\"row_val\"]]),\n",
    "        len(EN.preprocessor.categories[row[\"col_cat\"]].sets[row[\"col_val\"]])\n",
    "    )\n",
    ", axis=1)"
   ]
  },
  {
   "cell_type": "code",
   "execution_count": null,
   "metadata": {},
   "outputs": [],
   "source": [
    "EN.preprocessor.cells"
   ]
  },
  {
   "cell_type": "code",
   "execution_count": null,
   "metadata": {},
   "outputs": [],
   "source": [
    "EN.estimator.df.groupby(EN.estimator.df[\"difficulty\"].apply(int)).agg({\"iso\": list, \"difficulty\": \"count\"})"
   ]
  },
  {
   "cell_type": "code",
   "execution_count": null,
   "metadata": {},
   "outputs": [],
   "source": [
    "EN.estimator.df.sort_values(\"difficulty\").tail(10)"
   ]
  },
  {
   "cell_type": "code",
   "execution_count": null,
   "metadata": {},
   "outputs": [],
   "source": [
    "EN.estimator.cell_info[\n",
    "    (EN.estimator.cell_info[\"difficulty\"] > 4.5)\n",
    "    & (EN.estimator.cell_info[\"difficulty\"] < 5.5)\n",
    "]"
   ]
  },
  {
   "cell_type": "code",
   "execution_count": null,
   "metadata": {},
   "outputs": [],
   "source": [
    "EN.estimator.cell_info.sort_values(\"difficulty\").iloc[1900:2000]"
   ]
  },
  {
   "cell_type": "code",
   "execution_count": null,
   "metadata": {},
   "outputs": [],
   "source": [
    "EN.difficulty_info.sort_values(\"difficulty\").head(50)"
   ]
  },
  {
   "cell_type": "markdown",
   "metadata": {},
   "source": [
    "## From `game_stats.ipynb`"
   ]
  },
  {
   "cell_type": "code",
   "execution_count": null,
   "metadata": {},
   "outputs": [],
   "source": [
    "import matplotlib.pyplot as plt\n",
    "import numpy as np"
   ]
  },
  {
   "cell_type": "code",
   "execution_count": null,
   "metadata": {},
   "outputs": [],
   "source": [
    "plt.hist([game.sample_tries for game in EN.games], label=\"EN\", bins=50, rwidth=.9, alpha=.75)\n",
    "plt.hist([game.sample_tries for game in DE.games], label=\"DE\", bins=50, rwidth=.9, alpha=.75)\n",
    "plt.title(\"Number of tries for game generation\")\n",
    "plt.legend()\n",
    "plt.show()"
   ]
  },
  {
   "cell_type": "code",
   "execution_count": null,
   "metadata": {},
   "outputs": [],
   "source": [
    "# sample_tries = pd.Series([game.sample_tries for game in games]).value_counts()\n",
    "# sample_tries = np.array([sample_tries.get(i, 0) for i in range(100)])\n",
    "# p = (1 - sample_tries / np.roll(np.where(sample_tries != 0, sample_tries, np.nan), 1))[1:]\n",
    "# plt.scatter(x=p, y=np.zeros_like(p))\n",
    "# plt.show()"
   ]
  },
  {
   "cell_type": "code",
   "execution_count": null,
   "metadata": {},
   "outputs": [],
   "source": [
    "DE.difficulty_info[\"max_occurences\"] = DE.difficulty_info[\"game\"].apply(\n",
    "    lambda game: pd.Series(sum(sum(game.solutions, []), [])).value_counts().max()\n",
    ")\n",
    "EN.difficulty_info[\"max_occurences\"] = EN.difficulty_info[\"game\"].apply(\n",
    "    lambda game: pd.Series(sum(sum(game.solutions, []), [])).value_counts().max()\n",
    ")\n",
    "DE.difficulty_info[\"max_occurences\"].describe()"
   ]
  },
  {
   "cell_type": "code",
   "execution_count": null,
   "metadata": {},
   "outputs": [],
   "source": []
  },
  {
   "cell_type": "code",
   "execution_count": null,
   "metadata": {},
   "outputs": [],
   "source": [
    "plt.hist(EN.difficulty_info[\"max_occurences\"], bins=range(10), rwidth=.9)\n",
    "plt.title(\"Maximum number of cells a country appears in\")\n",
    "plt.show()"
   ]
  },
  {
   "cell_type": "code",
   "execution_count": null,
   "metadata": {},
   "outputs": [],
   "source": [
    "difficulty_info"
   ]
  },
  {
   "cell_type": "code",
   "execution_count": null,
   "metadata": {},
   "outputs": [],
   "source": [
    "plt.hist(difficulty_info[\"max_cell_difficulty\"], bins=20, rwidth=.9)\n",
    "plt.title(\"Max cell difficulty\")\n",
    "plt.show()"
   ]
  },
  {
   "cell_type": "code",
   "execution_count": null,
   "metadata": {},
   "outputs": [],
   "source": [
    "for game in difficulty_info.nlargest(20, \"max_cell_difficulty\")[\"game\"]:\n",
    "    print(game.data)\n",
    "    display(game.to_dataframe(solution=True))"
   ]
  },
  {
   "cell_type": "code",
   "execution_count": null,
   "metadata": {},
   "outputs": [],
   "source": []
  },
  {
   "cell_type": "code",
   "execution_count": null,
   "metadata": {},
   "outputs": [],
   "source": [
    "scatter = plt.scatter(x=difficulty_info[\"avg_cell_difficulty\"], y=difficulty_info[\"max_cell_difficulty\"], c=difficulty_info[\"level\"])\n",
    "plt.xlabel(\"Average cell difficulty\")\n",
    "plt.ylabel(\"Maximum cell difficulty\")\n",
    "plt.title(\"Distribution of game difficulty\")\n",
    "plt.xlim([0,10])\n",
    "plt.ylim([0,10])\n",
    "ax = plt.gca()\n",
    "legend = ax.legend(scatter.legend_elements()[0], [\"Easy\", \"Medium\", \"Hard\"], loc=\"lower right\", title=\"Difficulty Level\")\n",
    "ax.add_artist(legend)\n",
    "plt.show()\n",
    "\n",
    "print(difficulty_info[\"level\"].value_counts())"
   ]
  },
  {
   "cell_type": "code",
   "execution_count": null,
   "metadata": {},
   "outputs": [],
   "source": [
    "cell_info = estimator.cell_info\n",
    "cell_info.nsmallest(20, \"difficulty\")"
   ]
  },
  {
   "cell_type": "code",
   "execution_count": null,
   "metadata": {},
   "outputs": [],
   "source": [
    "plt.hist(cell_info[\"solution_difficulty\"], bins=20, rwidth=.9)\n",
    "plt.title(\"Cell solution difficulty\")\n",
    "plt.show()"
   ]
  },
  {
   "cell_type": "code",
   "execution_count": null,
   "metadata": {},
   "outputs": [],
   "source": []
  },
  {
   "cell_type": "code",
   "execution_count": null,
   "metadata": {},
   "outputs": [],
   "source": [
    "plt.scatter(x=cell_info[\"row_col_difficulty\"], y=cell_info[\"solution_difficulty\"])\n",
    "plt.xlabel(\"Row-col difficulty\")\n",
    "plt.ylabel(\"Solution difficulty\")\n",
    "plt.show()\n",
    "\n",
    "plt.scatter(x=cell_info[\"row_difficulty\"], y=cell_info[\"col_difficulty\"], c=cell_info[\"solution_difficulty\"])\n",
    "plt.xlabel(\"Row difficulty\")\n",
    "plt.ylabel(\"Col difficulty\")\n",
    "plt.show()\n",
    "# plt.scatter(x=cell_info[\"row_col_difficulty\"], y=cell_info[\"row_col_difficulty_harmonic\"])\n",
    "# plt.show()"
   ]
  },
  {
   "cell_type": "code",
   "execution_count": null,
   "metadata": {},
   "outputs": [],
   "source": [
    "# difficulty_info.nlargest(10, \"difficulty\")"
   ]
  },
  {
   "cell_type": "code",
   "execution_count": null,
   "metadata": {},
   "outputs": [],
   "source": [
    "\n",
    "\n",
    "# plt.scatter(x=np.log(df[\"gdp\"]) - np.log(df[\"population\"]), y=df[\"gdp_per_capita\"])\n",
    "# plt.scatter(x=np.log(df[\"population\"]), y=np.log(df[\"gdp\"]), c=df[\"difficulty\"])\n",
    "# plt.scatter(x=np.log(df[\"population\"]), y=np.log(df[\"gdp\"]), c=df[\"difficulty\"])\n",
    "# plt.show()"
   ]
  }
 ],
 "metadata": {
  "kernelspec": {
   "display_name": "tictacglobe-lTsexBXT-py3.10",
   "language": "python",
   "name": "python3"
  },
  "language_info": {
   "codemirror_mode": {
    "name": "ipython",
    "version": 3
   },
   "file_extension": ".py",
   "mimetype": "text/x-python",
   "name": "python",
   "nbconvert_exporter": "python",
   "pygments_lexer": "ipython3",
   "version": "3.10.4"
  }
 },
 "nbformat": 4,
 "nbformat_minor": 4
}
