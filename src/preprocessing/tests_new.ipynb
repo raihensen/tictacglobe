{
 "cells": [
  {
   "cell_type": "code",
   "execution_count": null,
   "metadata": {},
   "outputs": [],
   "source": [
    "\n",
    "import pandas as pd\n",
    "from generator import Constraint\n",
    "from difficulty import DifficultyEstimator, DifficultyLevel\n",
    "from utils import *\n",
    "from preprocessing import Preprocessor\n",
    "\n",
    "# Ensure we're running in the right directory\n",
    "chdir_this_file()\n",
    "\n",
    "\n",
    "FIELD_SIZE = 3\n",
    "MIN_CELL_SIZE = 1\n",
    "MAX_CELL_SIZE = None\n",
    "\n",
    "language = \"de\"\n",
    "\n",
    "countries = pd.read_json(f\"../../public/data/countries/countries-{language.lower()}.json\", encoding=\"utf8\")\n",
    "preprocessor = Preprocessor(countries=countries,\n",
    "                            field_size=FIELD_SIZE,\n",
    "                            min_cell_size=MIN_CELL_SIZE,\n",
    "                            max_cell_size=MAX_CELL_SIZE)\n",
    "\n",
    "constraints = [\n",
    "    # Some categories are pretty boring to appear multiple times\n",
    "    Constraint.category_at_most(\"capital_ending_letter\", 1),\n",
    "    Constraint.category_at_most(\"capital_starting_letter\", 1),\n",
    "    Constraint.category_at_most(\"ending_letter\", 1),\n",
    "    # Limit the number of cells a country can appear in\n",
    "    *Constraint.solutions_at_most(countries.iso.tolist(), 3)\n",
    "]\n",
    "category_probs = {\n",
    "    'continent': 4,\n",
    "    'starting_letter': 3,\n",
    "    'ending_letter': 1.5,\n",
    "    'capital_starting_letter': 2,\n",
    "    'capital_ending_letter': .5,\n",
    "    'flag_colors': 3,\n",
    "    'landlocked': 2,\n",
    "    'island': 2,\n",
    "    'top_20_population': 2.5,\n",
    "    'bottom_20_population': 2,\n",
    "    'top_20_area': 2.5,\n",
    "    'bottom_20_area': 2,\n",
    "    'elevation_sup5k': 2.5,\n",
    "    'elevation_sub1k': 2,\n",
    "}\n",
    "\n",
    "generator = preprocessor.get_generator(constraints, category_probs,\n",
    "                                       seed=None, selection_mode=\"shuffle_setkeys\", uniform=False, shuffle=True)\n",
    "games = list(generator.sample_games(n=5000))\n",
    "\n",
    "# Difficulty computation\n",
    "# difficulty_info = DifficultyEstimator(preprocessor).compute_game_difficulties(games)\n",
    "\n",
    "# Save games to JSON file\n",
    "# preprocessor.save_games(games, name=\"elev-pop\")\n"
   ]
  },
  {
   "cell_type": "code",
   "execution_count": null,
   "metadata": {},
   "outputs": [],
   "source": [
    "games[0].to_dataframe()"
   ]
  }
 ],
 "metadata": {
  "kernelspec": {
   "display_name": "Python 3",
   "language": "python",
   "name": "python3"
  },
  "language_info": {
   "codemirror_mode": {
    "name": "ipython",
    "version": 3
   },
   "file_extension": ".py",
   "mimetype": "text/x-python",
   "name": "python",
   "nbconvert_exporter": "python",
   "pygments_lexer": "ipython3",
   "version": "3.8.5"
  }
 },
 "nbformat": 4,
 "nbformat_minor": 4
}
