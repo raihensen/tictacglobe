{
 "cells": [
  {
   "cell_type": "code",
   "execution_count": null,
   "metadata": {},
   "outputs": [],
   "source": [
    "import preprocessing"
   ]
  },
  {
   "cell_type": "code",
   "execution_count": null,
   "metadata": {},
   "outputs": [],
   "source": [
    "# import importlib\n",
    "# importlib.reload(preprocessing)"
   ]
  },
  {
   "cell_type": "code",
   "execution_count": null,
   "metadata": {},
   "outputs": [],
   "source": [
    "categories = preprocessing.categories"
   ]
  },
  {
   "cell_type": "code",
   "execution_count": null,
   "metadata": {},
   "outputs": [],
   "source": [
    "from game import *\n",
    "\n",
    "constraints = [\n",
    "    # We always want a continent\n",
    "    Constraint.category_at_least(\"continent\", 1),\n",
    "    \n",
    "    # Some categories are pretty boring to appear multiple times\n",
    "    Constraint.category_at_most(\"capital_ending_letter\", 1),\n",
    "    Constraint.category_at_most(\"capital_starting_letter\", 1),\n",
    "    Constraint.category_at_most(\"ending_letter\", 1)\n",
    "]\n",
    "\n",
    "games = [preprocessing.create_game(constraints, shuffle=True) for _ in range(1000)]"
   ]
  },
  {
   "cell_type": "code",
   "execution_count": null,
   "metadata": {},
   "outputs": [],
   "source": [
    "def get_difficulty(game):\n",
    "    game_cats = [cat for cat, val in game.rows + game.cols]\n",
    "    cat_sizes = [len(cat.sets) for cat in game_cats]\n",
    "    \n",
    "    cell_sizes = sum([[len(cell) for cell in row] for row in game.solutions], [])\n",
    "    num_unique = len([i for i, size in enumerate(cell_sizes) if size == 1])\n",
    "    cat_difficulty = sum(cat.difficulty for cat in game_cats)\n",
    "    \n",
    "    return {\"cell_sizes\": cell_sizes,\n",
    "            \"cell_sizes_median\": pd.Series(cell_sizes).median(),\n",
    "            \"num_unique\": num_unique,\n",
    "            \"cat_sizes\": cat_sizes,\n",
    "            \"cat_sizes_median\": pd.Series(cell_sizes).median(),\n",
    "            \"cat_difficulty\": cat_difficulty}\n",
    "\n",
    "info = pd.DataFrame([{\"game\": game, **get_difficulty(game)} for game in games])\n",
    "info[\"score\"] = -info[\"num_unique\"] + info[\"cat_difficulty\"] + info[\"cell_sizes_median\"] + info[\"cat_sizes_median\"]\n",
    "\n",
    "display(info.head(30))\n",
    "\n",
    "# idea: countries with small population / size are harder to guess\n",
    "# log(sum(populations of all solution)) median of all cells"
   ]
  },
  {
   "cell_type": "code",
   "execution_count": null,
   "metadata": {},
   "outputs": [],
   "source": [
    "import matplotlib.pyplot as plt\n",
    "\n",
    "plt.hist(info[\"cat_difficulty\"], rwidth=.9)\n",
    "plt.title(\"Category difficulty sum\")\n",
    "plt.show()"
   ]
  },
  {
   "cell_type": "code",
   "execution_count": null,
   "metadata": {},
   "outputs": [],
   "source": [
    "SAVE = False\n",
    "\n",
    "if SAVE:\n",
    "    json.dump([game.to_json() for game in games], open(\"data/games.json\", mode=\"w\", encoding=\"utf-8\"))"
   ]
  }
 ],
 "metadata": {
  "kernelspec": {
   "display_name": "Python 3",
   "language": "python",
   "name": "python3"
  },
  "language_info": {
   "codemirror_mode": {
    "name": "ipython",
    "version": 3
   },
   "file_extension": ".py",
   "mimetype": "text/x-python",
   "name": "python",
   "nbconvert_exporter": "python",
   "pygments_lexer": "ipython3",
   "version": "3.8.5"
  }
 },
 "nbformat": 4,
 "nbformat_minor": 4
}
