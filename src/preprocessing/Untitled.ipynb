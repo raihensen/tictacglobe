{
 "cells": [
  {
   "cell_type": "code",
   "execution_count": null,
   "metadata": {},
   "outputs": [],
   "source": [
    "import preprocessing"
   ]
  },
  {
   "cell_type": "code",
   "execution_count": null,
   "metadata": {},
   "outputs": [],
   "source": [
    "# import importlib\n",
    "# importlib.reload(preprocessing)"
   ]
  },
  {
   "cell_type": "code",
   "execution_count": null,
   "metadata": {},
   "outputs": [],
   "source": [
    "categories = preprocessing.categories"
   ]
  },
  {
   "cell_type": "code",
   "execution_count": null,
   "metadata": {},
   "outputs": [],
   "source": [
    "from game import *\n",
    "\n",
    "constraints = [\n",
    "    # We always want a continent\n",
    "    Constraint.category_at_least(\"continent\", 1),\n",
    "    \n",
    "    # Some categories are pretty boring to appear multiple times\n",
    "    Constraint.category_at_most(\"capital_ending_letter\", 1),\n",
    "    Constraint.category_at_most(\"capital_starting_letter\", 1),\n",
    "    Constraint.category_at_most(\"ending_letter\", 1)\n",
    "]\n",
    "\n",
    "games = [preprocessing.create_game(constraints, shuffle=True) for _ in range(1000)]"
   ]
  },
  {
   "cell_type": "code",
   "execution_count": null,
   "metadata": {
    "scrolled": true
   },
   "outputs": [],
   "source": [
    "def get_difficulty(game):\n",
    "    game_cats = [cat for cat, val in game.rows + game.cols]\n",
    "    cat_sizes = [len(cat.sets) for cat in game_cats]\n",
    "    \n",
    "    solutions = sum([[cell for cell in row] for row in game.solutions], [])\n",
    "    alt_solutions = sum([[cell for cell in row] for row in game.alt_solutions], [])\n",
    "    all_solutions = list(sorted(set(sum(solutions + alt_solutions, []))))\n",
    "    cell_sizes = list(map(len, solutions))\n",
    "    num_unique = len([i for i, size in enumerate(cell_sizes) if size == 1])\n",
    "    cat_difficulty = sum(cat.difficulty for cat in game_cats)\n",
    "    \n",
    "    return {\"cell_sizes\": cell_sizes,\n",
    "            \"cell_sizes_median\": pd.Series(cell_sizes).median(),\n",
    "            \"num_unique\": num_unique,\n",
    "            \"max_num_cells\": max(len([cell for cell in solutions if c in cell]) for c in all_solutions),\n",
    "            \"max_num_cells_unique_solution\": max(len([cell for cell in solutions if len(cell) == 1 and c in cell]) for c in all_solutions),\n",
    "            \"cat_sizes\": cat_sizes,\n",
    "            \"all_solutions\": len(all_solutions),\n",
    "            \"cat_sizes_median\": pd.Series(cell_sizes).median(),\n",
    "            \"cat_difficulty\": cat_difficulty}\n",
    "\n",
    "info = pd.DataFrame([{\"game\": game, **get_difficulty(game)} for game in games])\n",
    "info[\"score\"] = -info[\"num_unique\"] + info[\"cat_difficulty\"] + info[\"cell_sizes_median\"] + info[\"cat_sizes_median\"]\n",
    "\n",
    "display(info.head(30))\n",
    "\n",
    "# idea: countries with small population / size are harder to guess\n",
    "# log(sum(populations of all solution)) median of all cells"
   ]
  },
  {
   "cell_type": "code",
   "execution_count": null,
   "metadata": {},
   "outputs": [],
   "source": [
    "import matplotlib.pyplot as plt\n",
    "import numpy as np\n",
    "\n",
    "plt.figure(figsize=(12,3))\n",
    "plt.subplot(121)\n",
    "\n",
    "plt.hist(info[\"max_num_cells\"], rwidth=.9, bins=range(10))\n",
    "plt.xticks(np.arange(.5,10,1), labels=range(10))\n",
    "plt.xlim([-.5,9.5])\n",
    "# plt.xticklabels()\n",
    "plt.title(\"Countries appear in up to x cells\")\n",
    "\n",
    "\n",
    "plt.subplot(122)\n",
    "\n",
    "plt.hist(info[\"max_num_cells_unique_solution\"], rwidth=.9, bins=range(10))\n",
    "plt.xticks(np.arange(.5,10,1), labels=range(10))\n",
    "plt.xlim([-.5,9.5])\n",
    "# plt.xticklabels()\n",
    "plt.title(\"Countries appear in up to x cells as unique solution\")\n",
    "plt.show()"
   ]
  },
  {
   "cell_type": "code",
   "execution_count": null,
   "metadata": {},
   "outputs": [],
   "source": [
    "import matplotlib.pyplot as plt\n",
    "\n",
    "plt.hist(info[\"cat_difficulty\"], rwidth=.9)\n",
    "plt.title(\"Category difficulty sum\")\n",
    "plt.show()"
   ]
  },
  {
   "cell_type": "code",
   "execution_count": null,
   "metadata": {},
   "outputs": [],
   "source": [
    "games[0].to_json()"
   ]
  },
  {
   "cell_type": "code",
   "execution_count": null,
   "metadata": {},
   "outputs": [],
   "source": [
    "import json\n",
    "\n",
    "def save():\n",
    "    json.dump([game.to_json() for game in games], open(\"../../data/games1.json\", mode=\"w\", encoding=\"utf-8\"))"
   ]
  },
  {
   "cell_type": "code",
   "execution_count": null,
   "metadata": {},
   "outputs": [],
   "source": [
    "# save()"
   ]
  },
  {
   "cell_type": "code",
   "execution_count": null,
   "metadata": {},
   "outputs": [],
   "source": []
  }
 ],
 "metadata": {
  "kernelspec": {
   "display_name": "Python 3",
   "language": "python",
   "name": "python3"
  },
  "language_info": {
   "codemirror_mode": {
    "name": "ipython",
    "version": 3
   },
   "file_extension": ".py",
   "mimetype": "text/x-python",
   "name": "python",
   "nbconvert_exporter": "python",
   "pygments_lexer": "ipython3",
   "version": "3.8.5"
  }
 },
 "nbformat": 4,
 "nbformat_minor": 4
}
