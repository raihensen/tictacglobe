{
 "cells": [
  {
   "cell_type": "code",
   "execution_count": 1,
   "metadata": {},
   "outputs": [],
   "source": [
    "import pandas as pd\n",
    "from utils import *"
   ]
  },
  {
   "cell_type": "code",
   "execution_count": 2,
   "metadata": {},
   "outputs": [],
   "source": [
    "language = \"de\""
   ]
  },
  {
   "cell_type": "code",
   "execution_count": 3,
   "metadata": {},
   "outputs": [],
   "source": [
    "language = language.lower()\n",
    "\n",
    "df = pd.read_json(f\"../../public/data/countries/countries-en.json\", encoding=\"utf8\")\n",
    "dft = pd.read_csv(f\"../../public/data/local/countries-translation-{language}.csv\", sep=\";\")\n",
    "\n",
    "df[\"continent\"].fillna(\"NA\", inplace=True)  # North America fix\n",
    "df[\"iso\"].fillna(\"NA\", inplace=True)  # Namibia fix\n",
    "dft[\"iso\"].fillna(\"NA\", inplace=True)  # Namibia fix\n",
    "\n",
    "dft[f\"capital_{language}_alt\"] = dft[f\"capital_{language}_alt\"].apply(lambda s: [x.strip()[1:-1] for x in s[1:-1].split(\",\") if len(x.strip())])\n",
    "dft[f\"name_{language}_alt\"] = dft[f\"name_{language}_alt\"].apply(lambda s: [x.strip()[1:-1] for x in s[1:-1].split(\",\") if len(x.strip())])\n",
    "# dft[f\"capital_{language}_alt\"].apply(len).value_counts()\n",
    "\n",
    "cols = [\"name\", \"name_alt\", \"capital\", \"capital_alt\"]\n",
    "df = df.drop(columns=cols)\n",
    "dft = dft.drop(columns=[\"iso3\"]).set_index(\"iso\")\n",
    "dft.columns = cols\n",
    "df = df.join(dft, on=\"iso\")\n",
    "pre = [\"iso\", \"iso3\"]\n",
    "df = df[pre + cols + [col for col in df.columns if col not in cols and col not in pre]]"
   ]
  },
  {
   "cell_type": "code",
   "execution_count": 8,
   "metadata": {},
   "outputs": [
    {
     "name": "stdout",
     "output_type": "stream",
     "text": [
      "CSV Country data exported to ../../public/data/countries/countries-de.csv.\n",
      "JSON Country data exported to ../../public/data/countries/countries-de.json.\n"
     ]
    }
   ],
   "source": [
    "export_country_data(df, language)"
   ]
  }
 ],
 "metadata": {
  "kernelspec": {
   "display_name": "Python 3",
   "language": "python",
   "name": "python3"
  },
  "language_info": {
   "codemirror_mode": {
    "name": "ipython",
    "version": 3
   },
   "file_extension": ".py",
   "mimetype": "text/x-python",
   "name": "python",
   "nbconvert_exporter": "python",
   "pygments_lexer": "ipython3",
   "version": "3.8.5"
  }
 },
 "nbformat": 4,
 "nbformat_minor": 4
}
