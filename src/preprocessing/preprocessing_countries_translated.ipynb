{
 "cells": [
  {
   "cell_type": "code",
   "execution_count": null,
   "metadata": {},
   "outputs": [],
   "source": [
    "import pandas as pd\n",
    "import utils"
   ]
  },
  {
   "cell_type": "code",
   "execution_count": null,
   "metadata": {},
   "outputs": [],
   "source": [
    "language = \"de\""
   ]
  },
  {
   "cell_type": "code",
   "execution_count": null,
   "metadata": {},
   "outputs": [],
   "source": [
    "language = language.lower()\n",
    "\n",
    "df = pd.read_json(f\"../../public/data/countries/countries-en.json\", encoding=\"utf8\")\n",
    "dft = pd.read_csv(f\"../../public/data/local/countries-translation-{language}.csv\", sep=\";\")\n",
    "\n",
    "df[\"continent\"] = df[\"continent\"].fillna(\"NA\")  # North America fix\n",
    "df[\"iso\"] = df[\"iso\"].fillna(\"NA\")  # Namibia fix\n",
    "dft[\"iso\"] = dft[\"iso\"].fillna(\"NA\")  # Namibia fix\n",
    "\n",
    "dft[f\"capital_{language}_alt\"] = dft[f\"capital_{language}_alt\"].apply(lambda s: [x.strip()[1:-1] for x in s[1:-1].split(\",\") if len(x.strip())])\n",
    "dft[f\"name_{language}_alt\"] = dft[f\"name_{language}_alt\"].apply(lambda s: [x.strip()[1:-1] for x in s[1:-1].split(\",\") if len(x.strip())])\n",
    "# dft[f\"capital_{language}_alt\"].apply(len).value_counts()\n",
    "\n",
    "cols = [\"name\", \"name_alt\", \"capital\", \"capital_alt\"]\n",
    "df = df.drop(columns=cols)\n",
    "dft = dft.drop(columns=[\"iso3\"]).set_index(\"iso\")\n",
    "dft.columns = cols\n",
    "df = df.join(dft, on=\"iso\")\n",
    "pre = [\"iso\", \"iso3\"]\n",
    "df = df[pre + cols + [col for col in df.columns if col not in cols and col not in pre]]"
   ]
  },
  {
   "cell_type": "code",
   "execution_count": null,
   "metadata": {},
   "outputs": [],
   "source": [
    "utils.export_country_data(df, language)"
   ]
  }
 ],
 "metadata": {
  "kernelspec": {
   "display_name": "tictacglobe-lTsexBXT-py3.10",
   "language": "python",
   "name": "python3"
  },
  "language_info": {
   "codemirror_mode": {
    "name": "ipython",
    "version": 3
   },
   "file_extension": ".py",
   "mimetype": "text/x-python",
   "name": "python",
   "nbconvert_exporter": "python",
   "pygments_lexer": "ipython3",
   "version": "3.10.4"
  }
 },
 "nbformat": 4,
 "nbformat_minor": 4
}
