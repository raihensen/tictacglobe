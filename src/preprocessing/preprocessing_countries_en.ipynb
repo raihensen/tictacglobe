{
 "cells": [
  {
   "cell_type": "code",
   "execution_count": null,
   "metadata": {},
   "outputs": [],
   "source": [
    "import json\n",
    "import pandas as pd\n",
    "import numpy as np\n",
    "import itertools\n",
    "import datetime\n",
    "from utils import *\n",
    "\n",
    "# Ensure we're running in the right directory\n",
    "chdir_this_file()\n",
    "\n",
    "# ------------------------------------------------------------------------------------------------------------------\n",
    "# Import data\n",
    "df = pd.DataFrame(json.load(open(\"../../data/local/countries_processed.json\", encoding=\"utf-8\")))\n",
    "\n",
    "# Filter & rename columns\n",
    "df.columns = ['iso', 'iso3', 'iso_numeric', 'fips', 'name', 'capital',\n",
    "              'area_km2', 'population', 'continent', 'tld',\n",
    "              'currency_code', 'currency_name', 'phone', 'zip_format', 'zip_regex',\n",
    "              'languages', 'geonameid', 'neighbors', 'eq_fips', 'parent', 'territories', 'neighbors_t']\n",
    "\n",
    "subset = ['iso', 'iso3', 'name', 'capital', 'continent',\n",
    "          'area_km2', 'population',\n",
    "          'currency_code', 'currency_name', 'languages',\n",
    "          'territories', 'neighbors', 'neighbors_t']\n",
    "df = df[subset]\n",
    "\n",
    "# Import GDP data\n",
    "# GDP data from https://github.com/datasets/gdp/blob/master/data/gdp.csv\n",
    "gdp_data = pd.read_csv(\"../../data/local/gdp.csv\")\n",
    "gdp = gdp_data.sort_values(\"Year\").groupby(\"Country Code\").tail(1).set_index(\"Country Code\").rename(columns={\"Value\": \"gdp\"})\n",
    "df = df.join(gdp[\"gdp\"], on=\"iso3\")\n",
    "# print(\"no gdp data:\")\n",
    "# print(df[df[\"gdp\"].isna()][[\"iso\", \"name\", \"population\", \"gdp\"]])\n",
    "df.loc[df.iso == \"TW\", \"gdp\"] = 790.7e9  # https://en.wikipedia.org/wiki/Economy_of_Taiwan (2023 data, accessed Aug 2023)\n",
    "df.loc[df.iso == \"KP\", \"gdp\"] = 28.5e9  # https://en.wikipedia.org/wiki/Economy_of_North_Korea (2016 data, accessed Aug 2023)\n",
    "df[\"gdp_per_capita\"] = df[\"gdp\"] / df[\"population\"]\n",
    "df.loc[df.iso == \"VA\", \"gdp_per_capita\"] = 21198  #  https://en.wikipedia.org/wiki/Economy_of_Vatican_City (2016 data, accessed Aug 2023)\n",
    "df[\"gdp\"] = df[\"gdp_per_capita\"] * df[\"population\"]\n"
   ]
  },
  {
   "cell_type": "code",
   "execution_count": null,
   "metadata": {},
   "outputs": [],
   "source": [
    "# Individual fixes\n",
    "df.loc[df[\"name\"] == \"Palau\", \"capital\"] = \"Ngerulmud\"  # old value seems wrong\n",
    "\n",
    "# Consider territorial borders as alternative values (e.g. France-Brazil)\n",
    "neighbors_alt = df.apply(lambda row: [c for c in row[\"neighbors_t\"] if c not in row[\"neighbors\"]], axis=1)\n",
    "df.drop(columns=[\"neighbors_t\"], inplace=True)\n",
    "df.insert(list(df.columns).index(\"neighbors\") + 1, \"neighbors_alt\", neighbors_alt)\n",
    "\n",
    "# Border fixes\n",
    "remove_border(df, \"US\", \"Cuba\")  # not so narrow maritime border\n",
    "remove_border(df, \"US\", \"Bahamas\")  # not so narrow maritime border\n",
    "add_alternative_border(df, \"Singapore\", \"Malaysia\")  # narrow maritime border\n",
    "add_alternative_border(df, \"Spain\", \"Morocco\")  # Ceuta/Melilla provinces\n",
    "\n",
    "# Additional columns & global fixes\n",
    "df[\"continent\"].fillna(\"NA\", inplace=True)  # North America fix\n",
    "df[\"landlocked\"] = df[\"iso\"].isin(\"AF,AD,AM,AT,AZ,BY,BT,BO,BW,BF,BI,CF,TD,CZ,SZ,ET,HU,KZ,XK,KG,LA,LS,LI,LU,MW,ML,MD,MN,NP,NE,MK,PY,RW,SM,RS,SK,SS,CH,TJ,TM,UG,UZ,VA,ZM,ZW\".split(\",\"))\n",
    "df[\"island\"] = (df[\"neighbors\"].apply(len) == 0) | df[\"iso\"].isin(\"ID,PG,TL,SG,BN,GB,IE,DO,HT\".split(\",\"))\n",
    "add_alternative_value(df, \"island\", \"Australia\", False, True)\n",
    "\n",
    "# Alternative values\n",
    "# Names\n",
    "add_alternative_value(df, \"name\", \"CI\", \"Ivory Coast\", \"Côte d'Ivoire\")\n",
    "add_alternative_value(df, \"name\", \"MK\", \"North Macedonia\", \"Macedonia\")\n",
    "add_alternative_value(df, \"name\", \"PS\", \"Palestine\", \"Palestinian Territory\")\n",
    "add_alternative_value(df, \"name\", \"TR\", \"Türkiye\", \"Turkey\")\n",
    "add_alternative_value(df, \"name\", \"VA\", \"Vatican\", \"Vatican City\")\n",
    "add_alternative_value(df, \"name\", \"US\", \"United States\", \"United States of America\")\n",
    "add_alternative_value(df, \"name\", \"CZ\", \"Czech Republic\", \"Czechia\")\n",
    "\n",
    "# Multiple continents (source: https://en.wikipedia.org/wiki/List_of_transcontinental_countries)\n",
    "add_alternative_value(df, \"continent\", \"Armenia\", \"AS\", \"EU\")\n",
    "add_alternative_value(df, \"continent\", \"Georgia\", \"AS\", \"EU\")\n",
    "add_alternative_value(df, \"continent\", \"Azerbaijan\", \"AS\", \"EU\")\n",
    "add_alternative_value(df, \"continent\", \"Trinidad and Tobago\", \"NA\", \"SA\")\n",
    "add_alternative_value(df, \"continent\", \"Panama\", \"NA\", \"SA\")\n",
    "add_alternative_value(df, \"continent\", \"Egypt\", \"AF\", \"AS\")\n",
    "add_alternative_value(df, \"continent\", \"Russia\", \"EU\", \"AS\")\n",
    "add_alternative_value(df, \"continent\", \"TR\", \"AS\", \"EU\")\n",
    "add_alternative_value(df, \"continent\", \"Timor Leste\", \"AS\", \"OC\")\n",
    "\n",
    "# Borders\n",
    "add_alternative_value(df, \"name\", \"CI\", \"Ivory Coast\", \"Côte d'Ivoire\")\n",
    "\n",
    "# Multiple/unclear capital (source: https://en.wikipedia.org/wiki/List_of_countries_with_multiple_capitals)\n",
    "add_alternative_value(df, \"capital\", \"Kazakhstan\", \"Astana\", \"Nur-Sultan\")\n",
    "add_alternative_value(df, \"capital\", \"Bolivia\", \"La Paz\", \"Sucre\")\n",
    "add_alternative_value(df, \"capital\", \"Burundi\", \"Gitega\", \"Bujumbura\")\n",
    "add_alternative_value(df, \"capital\", \"CI\", \"Yamoussoukro\", \"Abidjan\")\n",
    "add_alternative_value(df, \"capital\", \"Eswatini\", \"Mbabane\", \"Lobamba\")\n",
    "add_alternative_value(df, \"capital\", \"Malaysia\", \"Kuala Lumpur\", \"Putrajaya\")\n",
    "add_alternative_value(df, \"capital\", \"Netherlands\", \"Amsterdam\", \"The Hague\")\n",
    "add_alternative_value(df, \"capital\", \"Palestine\", \"Ramallah\", \"Jerusalem\", \"East Jerusalem\")\n",
    "add_alternative_value(df, \"capital\", \"South Africa\", \"Pretoria\", \"Cape Town\", \"Bloemfontein\")\n",
    "add_alternative_value(df, \"capital\", \"Sri Lanka\", \"Colombo\", \"Sri Jayawardenepura Kotte\")\n",
    "\n",
    "# Capitals with multiple spellings / alternative names\n",
    "add_alternative_value(df, \"capital\", \"US\", \"Washington\", \"Washington, DC\")\n",
    "add_alternative_value(df, \"capital\", \"Chile\", \"Santiago\", \"Santiago de Chile\")"
   ]
  },
  {
   "cell_type": "code",
   "execution_count": null,
   "metadata": {},
   "outputs": [],
   "source": [
    "\n",
    "# ------------------------------------------------------------------------------------------------------------------\n",
    "# Import flag colors\n",
    "from colors import add_flag_colors\n",
    "df = add_flag_colors(df)"
   ]
  },
  {
   "cell_type": "code",
   "execution_count": null,
   "metadata": {},
   "outputs": [],
   "source": [
    "# Display all changes\n",
    "altcols = [col for col in df.columns if col.endswith(\"_alt\")]\n",
    "print(\"\\nAll countries with alternative values:\")\n",
    "df[df[altcols].applymap(len).sum(axis=1) > 0]\n"
   ]
  },
  {
   "cell_type": "markdown",
   "metadata": {},
   "source": [
    "# Export country data (EN)"
   ]
  },
  {
   "cell_type": "code",
   "execution_count": null,
   "metadata": {},
   "outputs": [],
   "source": [
    "export_country_data(df, \"en\")"
   ]
  },
  {
   "cell_type": "code",
   "execution_count": null,
   "metadata": {},
   "outputs": [],
   "source": []
  }
 ],
 "metadata": {
  "kernelspec": {
   "display_name": "Python 3",
   "language": "python",
   "name": "python3"
  },
  "language_info": {
   "codemirror_mode": {
    "name": "ipython",
    "version": 3
   },
   "file_extension": ".py",
   "mimetype": "text/x-python",
   "name": "python",
   "nbconvert_exporter": "python",
   "pygments_lexer": "ipython3",
   "version": "3.8.5"
  }
 },
 "nbformat": 4,
 "nbformat_minor": 4
}
